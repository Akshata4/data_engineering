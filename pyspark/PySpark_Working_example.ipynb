{
  "cells": [
    {
      "cell_type": "markdown",
      "metadata": {
        "id": "view-in-github",
        "colab_type": "text"
      },
      "source": [
        "<a href=\"https://colab.research.google.com/github/Akshata4/data_engineering/blob/main/pyspark/PySpark_Working_example.ipynb\" target=\"_parent\"><img src=\"https://colab.research.google.com/assets/colab-badge.svg\" alt=\"Open In Colab\"/></a>"
      ]
    },
    {
      "cell_type": "code",
      "source": [
        "!pip install pyspark findspark"
      ],
      "metadata": {
        "id": "5mGF9J2s2fy3",
        "outputId": "006119e9-1a3c-4bfa-b6c9-de4ab483f4f2",
        "colab": {
          "base_uri": "https://localhost:8080/"
        }
      },
      "execution_count": 8,
      "outputs": [
        {
          "output_type": "stream",
          "name": "stdout",
          "text": [
            "Requirement already satisfied: pyspark in /usr/local/lib/python3.11/dist-packages (3.5.1)\n",
            "Requirement already satisfied: findspark in /usr/local/lib/python3.11/dist-packages (2.0.1)\n",
            "Requirement already satisfied: py4j==0.10.9.7 in /usr/local/lib/python3.11/dist-packages (from pyspark) (0.10.9.7)\n"
          ]
        }
      ]
    },
    {
      "cell_type": "code",
      "source": [
        "!java -version"
      ],
      "metadata": {
        "id": "-8rR1yVa4BdZ",
        "outputId": "02a1b7b6-bce1-4fbd-9ada-d12ca689d93f",
        "colab": {
          "base_uri": "https://localhost:8080/"
        }
      },
      "execution_count": 9,
      "outputs": [
        {
          "output_type": "stream",
          "name": "stdout",
          "text": [
            "openjdk version \"11.0.26\" 2025-01-21\n",
            "OpenJDK Runtime Environment (build 11.0.26+4-post-Ubuntu-1ubuntu122.04)\n",
            "OpenJDK 64-Bit Server VM (build 11.0.26+4-post-Ubuntu-1ubuntu122.04, mixed mode, sharing)\n"
          ]
        }
      ]
    },
    {
      "cell_type": "code",
      "source": [
        "import findspark\n",
        "findspark.init()"
      ],
      "metadata": {
        "id": "rvOQMiGA2epu"
      },
      "execution_count": 10,
      "outputs": []
    },
    {
      "cell_type": "code",
      "source": [
        "%cd /content/"
      ],
      "metadata": {
        "colab": {
          "base_uri": "https://localhost:8080/"
        },
        "id": "dmvuTHJY6ke3",
        "outputId": "4df93f9a-69ea-4986-8a1b-f696bb1c8107"
      },
      "execution_count": 11,
      "outputs": [
        {
          "output_type": "stream",
          "name": "stdout",
          "text": [
            "/content\n"
          ]
        }
      ]
    },
    {
      "cell_type": "code",
      "source": [
        "from pyspark.sql import SparkSession\n",
        "# from pyspark.ml.feature import VectorAssembler\n",
        "# from pyspark.ml.regression import LinearRegression"
      ],
      "metadata": {
        "id": "R3kD2DPeybgY"
      },
      "execution_count": 12,
      "outputs": []
    },
    {
      "cell_type": "code",
      "source": [
        "spark = SparkSession.builder.appName(\"MyApp\").master(\"local[*]\").getOrCreate()"
      ],
      "metadata": {
        "id": "jhr-JeW-ylgr"
      },
      "execution_count": 13,
      "outputs": []
    },
    {
      "cell_type": "code",
      "source": [
        "df = spark.read.csv('/content/sample_data/netflix_titles.csv', header=True)"
      ],
      "metadata": {
        "id": "uZVRmU583pYY"
      },
      "execution_count": 14,
      "outputs": []
    },
    {
      "cell_type": "code",
      "source": [
        "df.show(5)"
      ],
      "metadata": {
        "id": "6V-8j5Um366x",
        "outputId": "00eb19bc-aa69-48c1-8dae-62a1c748859c",
        "colab": {
          "base_uri": "https://localhost:8080/"
        }
      },
      "execution_count": 15,
      "outputs": [
        {
          "output_type": "stream",
          "name": "stdout",
          "text": [
            "+-------+-------+--------------------+---------------+--------------------+-------------+------------------+------------+------+---------+--------------------+--------------------+\n",
            "|show_id|   type|               title|       director|                cast|      country|        date_added|release_year|rating| duration|           listed_in|         description|\n",
            "+-------+-------+--------------------+---------------+--------------------+-------------+------------------+------------+------+---------+--------------------+--------------------+\n",
            "|     s1|  Movie|Dick Johnson Is Dead|Kirsten Johnson|                NULL|United States|September 25, 2021|        2020| PG-13|   90 min|       Documentaries|As her father nea...|\n",
            "|     s2|TV Show|       Blood & Water|           NULL|Ama Qamata, Khosi...| South Africa|September 24, 2021|        2021| TV-MA|2 Seasons|International TV ...|After crossing pa...|\n",
            "|     s3|TV Show|           Ganglands|Julien Leclercq|Sami Bouajila, Tr...|         NULL|September 24, 2021|        2021| TV-MA| 1 Season|Crime TV Shows, I...|To protect his fa...|\n",
            "|     s4|TV Show|Jailbirds New Orl...|           NULL|                NULL|         NULL|September 24, 2021|        2021| TV-MA| 1 Season|Docuseries, Reali...|Feuds, flirtation...|\n",
            "|     s5|TV Show|        Kota Factory|           NULL|Mayur More, Jiten...|        India|September 24, 2021|        2021| TV-MA|2 Seasons|International TV ...|In a city of coac...|\n",
            "+-------+-------+--------------------+---------------+--------------------+-------------+------------------+------------+------+---------+--------------------+--------------------+\n",
            "only showing top 5 rows\n",
            "\n"
          ]
        }
      ]
    },
    {
      "cell_type": "code",
      "source": [
        "spark"
      ],
      "metadata": {
        "id": "ysZFIH11s1lY",
        "colab": {
          "base_uri": "https://localhost:8080/",
          "height": 219
        },
        "outputId": "337c52ec-ea9d-4c47-bad7-42d24acb43e9"
      },
      "execution_count": 16,
      "outputs": [
        {
          "output_type": "execute_result",
          "data": {
            "text/plain": [
              "<pyspark.sql.session.SparkSession at 0x7d1fde3760d0>"
            ],
            "text/html": [
              "\n",
              "            <div>\n",
              "                <p><b>SparkSession - in-memory</b></p>\n",
              "                \n",
              "        <div>\n",
              "            <p><b>SparkContext</b></p>\n",
              "\n",
              "            <p><a href=\"http://c6e29d002891:4040\">Spark UI</a></p>\n",
              "\n",
              "            <dl>\n",
              "              <dt>Version</dt>\n",
              "                <dd><code>v3.5.1</code></dd>\n",
              "              <dt>Master</dt>\n",
              "                <dd><code>local[*]</code></dd>\n",
              "              <dt>AppName</dt>\n",
              "                <dd><code>MyApp</code></dd>\n",
              "            </dl>\n",
              "        </div>\n",
              "        \n",
              "            </div>\n",
              "        "
            ]
          },
          "metadata": {},
          "execution_count": 16
        }
      ]
    },
    {
      "cell_type": "code",
      "source": [
        "df.rdd.getNumPartitions()"
      ],
      "metadata": {
        "id": "Ifg5-20Xs5lJ",
        "colab": {
          "base_uri": "https://localhost:8080/"
        },
        "outputId": "9afaaff6-2699-4299-93f8-9dcf7b555b1e"
      },
      "execution_count": 17,
      "outputs": [
        {
          "output_type": "execute_result",
          "data": {
            "text/plain": [
              "1"
            ]
          },
          "metadata": {},
          "execution_count": 17
        }
      ]
    },
    {
      "cell_type": "code",
      "source": [
        "df1 = df.where(df.type==\"Movie\")"
      ],
      "metadata": {
        "id": "ysLKMRWR1RGp"
      },
      "execution_count": 18,
      "outputs": []
    },
    {
      "cell_type": "code",
      "source": [
        "df1.show(5)"
      ],
      "metadata": {
        "colab": {
          "base_uri": "https://localhost:8080/"
        },
        "id": "5W2m7EXB332d",
        "outputId": "2f437513-a5ca-4cc7-ce1c-151a69a2fade"
      },
      "execution_count": 19,
      "outputs": [
        {
          "output_type": "stream",
          "name": "stdout",
          "text": [
            "+-------+-----+--------------------+--------------------+--------------------+--------------------+------------------+------------+------+--------+--------------------+--------------------+\n",
            "|show_id| type|               title|            director|                cast|             country|        date_added|release_year|rating|duration|           listed_in|         description|\n",
            "+-------+-----+--------------------+--------------------+--------------------+--------------------+------------------+------------+------+--------+--------------------+--------------------+\n",
            "|     s1|Movie|Dick Johnson Is Dead|     Kirsten Johnson|                NULL|       United States|September 25, 2021|        2020| PG-13|  90 min|       Documentaries|As her father nea...|\n",
            "|     s7|Movie|My Little Pony: A...|Robert Cullen, Jo...|Vanessa Hudgens, ...|                NULL|September 24, 2021|        2021|    PG|  91 min|Children & Family...|Equestria's divid...|\n",
            "|     s8|Movie|             Sankofa|        Haile Gerima|Kofi Ghanaba, Oya...|United States, Gh...|September 24, 2021|        1993| TV-MA| 125 min|Dramas, Independe...|On a photo shoot ...|\n",
            "|    s10|Movie|        The Starling|      Theodore Melfi|Melissa McCarthy,...|       United States|September 24, 2021|        2021| PG-13| 104 min|    Comedies, Dramas|A woman adjusting...|\n",
            "|    s13|Movie|        Je Suis Karl| Christian Schwochow|Luna Wedler, Jann...|Germany, Czech Re...|September 23, 2021|        2021| TV-MA| 127 min|Dramas, Internati...|After most of her...|\n",
            "+-------+-----+--------------------+--------------------+--------------------+--------------------+------------------+------------+------+--------+--------------------+--------------------+\n",
            "only showing top 5 rows\n",
            "\n"
          ]
        }
      ]
    },
    {
      "cell_type": "code",
      "source": [
        "df1.rdd.getNumPartitions()"
      ],
      "metadata": {
        "colab": {
          "base_uri": "https://localhost:8080/"
        },
        "id": "wZeWfeHc4V_w",
        "outputId": "13027533-427f-4e02-b91c-33d7b4773af9"
      },
      "execution_count": 20,
      "outputs": [
        {
          "output_type": "execute_result",
          "data": {
            "text/plain": [
              "1"
            ]
          },
          "metadata": {},
          "execution_count": 20
        }
      ]
    },
    {
      "cell_type": "code",
      "source": [
        "df1.write.csv(\"/content/sample_data/output\", header=True,mode=\"overwrite\")"
      ],
      "metadata": {
        "id": "wHKnrvOG4jQ0"
      },
      "execution_count": 21,
      "outputs": []
    },
    {
      "cell_type": "code",
      "source": [
        "df.groupBy(\"type\").count().show()"
      ],
      "metadata": {
        "colab": {
          "base_uri": "https://localhost:8080/"
        },
        "id": "TQdKIExI40P-",
        "outputId": "f3bdd9f1-1e91-4a70-b1e0-e93f832d1bdf"
      },
      "execution_count": 22,
      "outputs": [
        {
          "output_type": "stream",
          "name": "stdout",
          "text": [
            "+-------------+-----+\n",
            "|         type|count|\n",
            "+-------------+-----+\n",
            "|         NULL|    1|\n",
            "|      TV Show| 2676|\n",
            "|        Movie| 6131|\n",
            "|William Wyler|    1|\n",
            "+-------------+-----+\n",
            "\n"
          ]
        }
      ]
    },
    {
      "cell_type": "code",
      "source": [
        "df.where(df.type==\"William Wyler\").show()"
      ],
      "metadata": {
        "id": "uWiW0PKnKEhF",
        "outputId": "17828af7-4102-45ab-ea13-4ecf34ffdfa4",
        "colab": {
          "base_uri": "https://localhost:8080/"
        }
      },
      "execution_count": 23,
      "outputs": [
        {
          "output_type": "stream",
          "name": "stdout",
          "text": [
            "+----------------+-------------+-----+-------------+--------------+-------+----------+------------+--------------------+--------------------+---------+-----------+\n",
            "|         show_id|         type|title|     director|          cast|country|date_added|release_year|              rating|            duration|listed_in|description|\n",
            "+----------------+-------------+-----+-------------+--------------+-------+----------+------------+--------------------+--------------------+---------+-----------+\n",
            "|Flying Fortress\"|William Wyler| NULL|United States|March 31, 2017|   1944|     TV-PG|      40 min|Classic Movies, D...|This documentary ...|     NULL|       NULL|\n",
            "+----------------+-------------+-----+-------------+--------------+-------+----------+------------+--------------------+--------------------+---------+-----------+\n",
            "\n"
          ]
        }
      ]
    },
    {
      "cell_type": "code",
      "source": [
        "## EDA 1, also removed nul value and one errornous record\n",
        "\n",
        "df_final = df.filter((df.type!=\"William Wyler\"))\n",
        "df_final = df_final.filter((df.type!=\"NULL\"))\n",
        "df_final.groupBy(\"type\").count().show()"
      ],
      "metadata": {
        "id": "lbOqwlw3KN_j",
        "outputId": "5b285c51-dd6b-4ac2-bcf8-7c7bb0aaefe8",
        "colab": {
          "base_uri": "https://localhost:8080/"
        }
      },
      "execution_count": 24,
      "outputs": [
        {
          "output_type": "stream",
          "name": "stdout",
          "text": [
            "+-------+-----+\n",
            "|   type|count|\n",
            "+-------+-----+\n",
            "|TV Show| 2676|\n",
            "|  Movie| 6131|\n",
            "+-------+-----+\n",
            "\n"
          ]
        }
      ]
    },
    {
      "cell_type": "code",
      "source": [
        "## EDA 2 - What is the distribution of content by country?\n",
        "## need to split country by \",\"\n",
        "\n",
        "df.groupBy(\"country\").count().show()"
      ],
      "metadata": {
        "id": "c7RxrHnWKr6f",
        "outputId": "3224166a-959c-4ec5-f815-51291344f6da",
        "colab": {
          "base_uri": "https://localhost:8080/"
        }
      },
      "execution_count": 25,
      "outputs": [
        {
          "output_type": "stream",
          "name": "stdout",
          "text": [
            "+--------------------+-----+\n",
            "|             country|count|\n",
            "+--------------------+-----+\n",
            "|Peru, United Stat...|    1|\n",
            "|India, United Kin...|    1|\n",
            "|Japan, Canada, Un...|    1|\n",
            "|United Kingdom, C...|    1|\n",
            "|      India, Germany|    2|\n",
            "|South Africa, Uni...|    1|\n",
            "|              Russia|   15|\n",
            "|United Kingdom, G...|    1|\n",
            "|Chile, United Sta...|    1|\n",
            "|South Africa, Angola|    1|\n",
            "|United States, Po...|    1|\n",
            "|  Philippines, Qatar|    1|\n",
            "|Hong Kong, China,...|    1|\n",
            "|  Germany, Sri Lanka|    1|\n",
            "|Denmark, France, ...|    1|\n",
            "|United States, Fr...|    1|\n",
            "|United Kingdom, N...|    2|\n",
            "|Australia, United...|    2|\n",
            "|Brazil, France, G...|    1|\n",
            "|United States, Ir...|    3|\n",
            "+--------------------+-----+\n",
            "only showing top 20 rows\n",
            "\n"
          ]
        }
      ]
    },
    {
      "cell_type": "code",
      "source": [
        "df_final.show(3)"
      ],
      "metadata": {
        "id": "i5J0DBQ-M9_q",
        "outputId": "13b9b2da-44f9-4c76-cd62-8a18b91af34a",
        "colab": {
          "base_uri": "https://localhost:8080/"
        }
      },
      "execution_count": 26,
      "outputs": [
        {
          "output_type": "stream",
          "name": "stdout",
          "text": [
            "+-------+-------+--------------------+---------------+--------------------+-------------+------------------+------------+------+---------+--------------------+--------------------+\n",
            "|show_id|   type|               title|       director|                cast|      country|        date_added|release_year|rating| duration|           listed_in|         description|\n",
            "+-------+-------+--------------------+---------------+--------------------+-------------+------------------+------------+------+---------+--------------------+--------------------+\n",
            "|     s1|  Movie|Dick Johnson Is Dead|Kirsten Johnson|                NULL|United States|September 25, 2021|        2020| PG-13|   90 min|       Documentaries|As her father nea...|\n",
            "|     s2|TV Show|       Blood & Water|           NULL|Ama Qamata, Khosi...| South Africa|September 24, 2021|        2021| TV-MA|2 Seasons|International TV ...|After crossing pa...|\n",
            "|     s3|TV Show|           Ganglands|Julien Leclercq|Sami Bouajila, Tr...|         NULL|September 24, 2021|        2021| TV-MA| 1 Season|Crime TV Shows, I...|To protect his fa...|\n",
            "+-------+-------+--------------------+---------------+--------------------+-------------+------------------+------------+------+---------+--------------------+--------------------+\n",
            "only showing top 3 rows\n",
            "\n"
          ]
        }
      ]
    },
    {
      "cell_type": "code",
      "source": [
        "## split country by ','\n",
        "\n",
        "from pyspark.sql.functions import split\n",
        "from pyspark.sql.functions import explode\n",
        "from pyspark.sql.functions import trim\n",
        "\n",
        "df_final = df_final.withColumn(\"country_array\", split(df_final[\"country\"],','))\n",
        "df_final.show()\n",
        "df_exploded = df_final.withColumn(\"country_exploded\", explode(df_final[\"country_array\"]))\n",
        "df_exploded = df_exploded.withColumn(\"country_exploded\", trim(df_exploded[\"country_exploded\"]))\n",
        "df_exploded.show()\n"
      ],
      "metadata": {
        "id": "DIUO8nsCNDHN",
        "outputId": "ef0e662b-6d70-48cd-996a-ee210b56c756",
        "colab": {
          "base_uri": "https://localhost:8080/"
        }
      },
      "execution_count": 27,
      "outputs": [
        {
          "output_type": "stream",
          "name": "stdout",
          "text": [
            "+-------+-------+--------------------+--------------------+--------------------+--------------------+------------------+------------+------+---------+--------------------+--------------------+--------------------+\n",
            "|show_id|   type|               title|            director|                cast|             country|        date_added|release_year|rating| duration|           listed_in|         description|       country_array|\n",
            "+-------+-------+--------------------+--------------------+--------------------+--------------------+------------------+------------+------+---------+--------------------+--------------------+--------------------+\n",
            "|     s1|  Movie|Dick Johnson Is Dead|     Kirsten Johnson|                NULL|       United States|September 25, 2021|        2020| PG-13|   90 min|       Documentaries|As her father nea...|     [United States]|\n",
            "|     s2|TV Show|       Blood & Water|                NULL|Ama Qamata, Khosi...|        South Africa|September 24, 2021|        2021| TV-MA|2 Seasons|International TV ...|After crossing pa...|      [South Africa]|\n",
            "|     s3|TV Show|           Ganglands|     Julien Leclercq|Sami Bouajila, Tr...|                NULL|September 24, 2021|        2021| TV-MA| 1 Season|Crime TV Shows, I...|To protect his fa...|                NULL|\n",
            "|     s4|TV Show|Jailbirds New Orl...|                NULL|                NULL|                NULL|September 24, 2021|        2021| TV-MA| 1 Season|Docuseries, Reali...|Feuds, flirtation...|                NULL|\n",
            "|     s5|TV Show|        Kota Factory|                NULL|Mayur More, Jiten...|               India|September 24, 2021|        2021| TV-MA|2 Seasons|International TV ...|In a city of coac...|             [India]|\n",
            "|     s6|TV Show|       Midnight Mass|       Mike Flanagan|Kate Siegel, Zach...|                NULL|September 24, 2021|        2021| TV-MA| 1 Season|TV Dramas, TV Hor...|The arrival of a ...|                NULL|\n",
            "|     s7|  Movie|My Little Pony: A...|Robert Cullen, Jo...|Vanessa Hudgens, ...|                NULL|September 24, 2021|        2021|    PG|   91 min|Children & Family...|Equestria's divid...|                NULL|\n",
            "|     s8|  Movie|             Sankofa|        Haile Gerima|Kofi Ghanaba, Oya...|United States, Gh...|September 24, 2021|        1993| TV-MA|  125 min|Dramas, Independe...|On a photo shoot ...|[United States,  ...|\n",
            "|     s9|TV Show|The Great British...|     Andy Devonshire|Mel Giedroyc, Sue...|      United Kingdom|September 24, 2021|        2021| TV-14|9 Seasons|British TV Shows,...|A talented batch ...|    [United Kingdom]|\n",
            "|    s10|  Movie|        The Starling|      Theodore Melfi|Melissa McCarthy,...|       United States|September 24, 2021|        2021| PG-13|  104 min|    Comedies, Dramas|A woman adjusting...|     [United States]|\n",
            "|    s11|TV Show|Vendetta: Truth, ...|                NULL|                NULL|                NULL|September 24, 2021|        2021| TV-MA| 1 Season|Crime TV Shows, D...|\"Sicily boasts a ...|                NULL|\n",
            "|    s12|TV Show|    Bangkok Breaking|   Kongkiat Komesiri|Sukollawat Kanaro...|                NULL|September 23, 2021|        2021| TV-MA| 1 Season|Crime TV Shows, I...|Struggling to ear...|                NULL|\n",
            "|    s13|  Movie|        Je Suis Karl| Christian Schwochow|Luna Wedler, Jann...|Germany, Czech Re...|September 23, 2021|        2021| TV-MA|  127 min|Dramas, Internati...|After most of her...|[Germany,  Czech ...|\n",
            "|    s14|  Movie|Confessions of an...|       Bruno Garotti|Klara Castanho, L...|                NULL|September 22, 2021|        2021| TV-PG|   91 min|Children & Family...|When the clever b...|                NULL|\n",
            "|    s15|TV Show|Crime Stories: In...|                NULL|                NULL|                NULL|September 22, 2021|        2021| TV-MA| 1 Season|British TV Shows,...|Cameras following...|                NULL|\n",
            "|    s16|TV Show|   Dear White People|                NULL|Logan Browning, B...|       United States|September 22, 2021|        2021| TV-MA|4 Seasons|TV Comedies, TV D...|\"Students of colo...|     [United States]|\n",
            "|    s17|  Movie|Europe's Most Dan...|Pedro de Echave G...|                NULL|                NULL|September 22, 2021|        2020| TV-MA|   67 min|Documentaries, In...|Declassified docu...|                NULL|\n",
            "|    s18|TV Show|     Falsa identidad|                NULL|Luis Ernesto Fran...|              Mexico|September 22, 2021|        2020| TV-MA|2 Seasons|Crime TV Shows, S...|Strangers Diego a...|            [Mexico]|\n",
            "|    s19|  Movie|           Intrusion|          Adam Salky|Freida Pinto, Log...|                NULL|September 22, 2021|        2021| TV-14|   94 min|           Thrillers|After a deadly ho...|                NULL|\n",
            "|    s20|TV Show|              Jaguar|                NULL|Blanca Suárez, Iv...|                NULL|September 22, 2021|        2021| TV-MA| 1 Season|International TV ...|In the 1960s, a H...|                NULL|\n",
            "+-------+-------+--------------------+--------------------+--------------------+--------------------+------------------+------------+------+---------+--------------------+--------------------+--------------------+\n",
            "only showing top 20 rows\n",
            "\n",
            "+-------+-------+--------------------+-------------------+--------------------+--------------------+------------------+------------+------+---------+--------------------+--------------------+--------------------+----------------+\n",
            "|show_id|   type|               title|           director|                cast|             country|        date_added|release_year|rating| duration|           listed_in|         description|       country_array|country_exploded|\n",
            "+-------+-------+--------------------+-------------------+--------------------+--------------------+------------------+------------+------+---------+--------------------+--------------------+--------------------+----------------+\n",
            "|     s1|  Movie|Dick Johnson Is Dead|    Kirsten Johnson|                NULL|       United States|September 25, 2021|        2020| PG-13|   90 min|       Documentaries|As her father nea...|     [United States]|   United States|\n",
            "|     s2|TV Show|       Blood & Water|               NULL|Ama Qamata, Khosi...|        South Africa|September 24, 2021|        2021| TV-MA|2 Seasons|International TV ...|After crossing pa...|      [South Africa]|    South Africa|\n",
            "|     s5|TV Show|        Kota Factory|               NULL|Mayur More, Jiten...|               India|September 24, 2021|        2021| TV-MA|2 Seasons|International TV ...|In a city of coac...|             [India]|           India|\n",
            "|     s8|  Movie|             Sankofa|       Haile Gerima|Kofi Ghanaba, Oya...|United States, Gh...|September 24, 2021|        1993| TV-MA|  125 min|Dramas, Independe...|On a photo shoot ...|[United States,  ...|   United States|\n",
            "|     s8|  Movie|             Sankofa|       Haile Gerima|Kofi Ghanaba, Oya...|United States, Gh...|September 24, 2021|        1993| TV-MA|  125 min|Dramas, Independe...|On a photo shoot ...|[United States,  ...|           Ghana|\n",
            "|     s8|  Movie|             Sankofa|       Haile Gerima|Kofi Ghanaba, Oya...|United States, Gh...|September 24, 2021|        1993| TV-MA|  125 min|Dramas, Independe...|On a photo shoot ...|[United States,  ...|    Burkina Faso|\n",
            "|     s8|  Movie|             Sankofa|       Haile Gerima|Kofi Ghanaba, Oya...|United States, Gh...|September 24, 2021|        1993| TV-MA|  125 min|Dramas, Independe...|On a photo shoot ...|[United States,  ...|  United Kingdom|\n",
            "|     s8|  Movie|             Sankofa|       Haile Gerima|Kofi Ghanaba, Oya...|United States, Gh...|September 24, 2021|        1993| TV-MA|  125 min|Dramas, Independe...|On a photo shoot ...|[United States,  ...|         Germany|\n",
            "|     s8|  Movie|             Sankofa|       Haile Gerima|Kofi Ghanaba, Oya...|United States, Gh...|September 24, 2021|        1993| TV-MA|  125 min|Dramas, Independe...|On a photo shoot ...|[United States,  ...|        Ethiopia|\n",
            "|     s9|TV Show|The Great British...|    Andy Devonshire|Mel Giedroyc, Sue...|      United Kingdom|September 24, 2021|        2021| TV-14|9 Seasons|British TV Shows,...|A talented batch ...|    [United Kingdom]|  United Kingdom|\n",
            "|    s10|  Movie|        The Starling|     Theodore Melfi|Melissa McCarthy,...|       United States|September 24, 2021|        2021| PG-13|  104 min|    Comedies, Dramas|A woman adjusting...|     [United States]|   United States|\n",
            "|    s13|  Movie|        Je Suis Karl|Christian Schwochow|Luna Wedler, Jann...|Germany, Czech Re...|September 23, 2021|        2021| TV-MA|  127 min|Dramas, Internati...|After most of her...|[Germany,  Czech ...|         Germany|\n",
            "|    s13|  Movie|        Je Suis Karl|Christian Schwochow|Luna Wedler, Jann...|Germany, Czech Re...|September 23, 2021|        2021| TV-MA|  127 min|Dramas, Internati...|After most of her...|[Germany,  Czech ...|  Czech Republic|\n",
            "|    s16|TV Show|   Dear White People|               NULL|Logan Browning, B...|       United States|September 22, 2021|        2021| TV-MA|4 Seasons|TV Comedies, TV D...|\"Students of colo...|     [United States]|   United States|\n",
            "|    s18|TV Show|     Falsa identidad|               NULL|Luis Ernesto Fran...|              Mexico|September 22, 2021|        2020| TV-MA|2 Seasons|Crime TV Shows, S...|Strangers Diego a...|            [Mexico]|          Mexico|\n",
            "|    s22|TV Show|Resurrection: Ert...|               NULL|Engin Altan Düzya...|              Turkey|September 22, 2021|        2018| TV-14|5 Seasons|International TV ...|When a good deed ...|            [Turkey]|          Turkey|\n",
            "|    s25|  Movie|               Jeans|         S. Shankar|Prashanth, Aishwa...|               India|September 21, 2021|        1998| TV-14|  166 min|Comedies, Interna...|When the father o...|             [India]|           India|\n",
            "|    s26|TV Show|Love on the Spectrum|               NULL|    Brooke Satchwell|           Australia|September 21, 2021|        2021| TV-14|2 Seasons|Docuseries, Inter...|Finding love can ...|         [Australia]|       Australia|\n",
            "|    s28|  Movie|           Grown Ups|       Dennis Dugan|Adam Sandler, Kev...|       United States|September 20, 2021|        2010| PG-13|  103 min|            Comedies|Mourning the loss...|     [United States]|   United States|\n",
            "|    s29|  Movie|          Dark Skies|      Scott Stewart|Keri Russell, Jos...|       United States|September 19, 2021|        2013| PG-13|   97 min|Horror Movies, Sc...|A family’s idylli...|     [United States]|   United States|\n",
            "+-------+-------+--------------------+-------------------+--------------------+--------------------+------------------+------------+------+---------+--------------------+--------------------+--------------------+----------------+\n",
            "only showing top 20 rows\n",
            "\n"
          ]
        }
      ]
    },
    {
      "cell_type": "code",
      "source": [
        "df_exploded.groupBy(\"country_exploded\").count().orderBy(\"count\",ascending=False).show()\n",
        "\n",
        "## top content producing countries are usa, india, uk"
      ],
      "metadata": {
        "id": "bV3rWgIZ_tw2",
        "outputId": "bf43dde9-c9fb-44c4-bb99-a6d0037eef67",
        "colab": {
          "base_uri": "https://localhost:8080/"
        }
      },
      "execution_count": 28,
      "outputs": [
        {
          "output_type": "stream",
          "name": "stdout",
          "text": [
            "+----------------+-----+\n",
            "|country_exploded|count|\n",
            "+----------------+-----+\n",
            "|   United States| 3676|\n",
            "|           India| 1046|\n",
            "|  United Kingdom|  805|\n",
            "|          Canada|  445|\n",
            "|          France|  392|\n",
            "|           Japan|  318|\n",
            "|     South Korea|  231|\n",
            "|           Spain|  230|\n",
            "|         Germany|  224|\n",
            "|          Mexico|  169|\n",
            "|           China|  162|\n",
            "|       Australia|  160|\n",
            "|           Egypt|  117|\n",
            "|          Turkey|  113|\n",
            "|       Hong Kong|  105|\n",
            "|         Nigeria|  101|\n",
            "|           Italy|  100|\n",
            "|          Brazil|   97|\n",
            "|       Argentina|   91|\n",
            "|         Belgium|   90|\n",
            "+----------------+-----+\n",
            "only showing top 20 rows\n",
            "\n"
          ]
        }
      ]
    },
    {
      "cell_type": "code",
      "source": [
        "df_final.show()"
      ],
      "metadata": {
        "id": "gVRtrmvfCFaZ",
        "outputId": "00e61b57-b00d-49c7-e314-55550842ab57",
        "colab": {
          "base_uri": "https://localhost:8080/"
        }
      },
      "execution_count": 29,
      "outputs": [
        {
          "output_type": "stream",
          "name": "stdout",
          "text": [
            "+-------+-------+--------------------+--------------------+--------------------+--------------------+------------------+------------+------+---------+--------------------+--------------------+--------------------+\n",
            "|show_id|   type|               title|            director|                cast|             country|        date_added|release_year|rating| duration|           listed_in|         description|       country_array|\n",
            "+-------+-------+--------------------+--------------------+--------------------+--------------------+------------------+------------+------+---------+--------------------+--------------------+--------------------+\n",
            "|     s1|  Movie|Dick Johnson Is Dead|     Kirsten Johnson|                NULL|       United States|September 25, 2021|        2020| PG-13|   90 min|       Documentaries|As her father nea...|     [United States]|\n",
            "|     s2|TV Show|       Blood & Water|                NULL|Ama Qamata, Khosi...|        South Africa|September 24, 2021|        2021| TV-MA|2 Seasons|International TV ...|After crossing pa...|      [South Africa]|\n",
            "|     s3|TV Show|           Ganglands|     Julien Leclercq|Sami Bouajila, Tr...|                NULL|September 24, 2021|        2021| TV-MA| 1 Season|Crime TV Shows, I...|To protect his fa...|                NULL|\n",
            "|     s4|TV Show|Jailbirds New Orl...|                NULL|                NULL|                NULL|September 24, 2021|        2021| TV-MA| 1 Season|Docuseries, Reali...|Feuds, flirtation...|                NULL|\n",
            "|     s5|TV Show|        Kota Factory|                NULL|Mayur More, Jiten...|               India|September 24, 2021|        2021| TV-MA|2 Seasons|International TV ...|In a city of coac...|             [India]|\n",
            "|     s6|TV Show|       Midnight Mass|       Mike Flanagan|Kate Siegel, Zach...|                NULL|September 24, 2021|        2021| TV-MA| 1 Season|TV Dramas, TV Hor...|The arrival of a ...|                NULL|\n",
            "|     s7|  Movie|My Little Pony: A...|Robert Cullen, Jo...|Vanessa Hudgens, ...|                NULL|September 24, 2021|        2021|    PG|   91 min|Children & Family...|Equestria's divid...|                NULL|\n",
            "|     s8|  Movie|             Sankofa|        Haile Gerima|Kofi Ghanaba, Oya...|United States, Gh...|September 24, 2021|        1993| TV-MA|  125 min|Dramas, Independe...|On a photo shoot ...|[United States,  ...|\n",
            "|     s9|TV Show|The Great British...|     Andy Devonshire|Mel Giedroyc, Sue...|      United Kingdom|September 24, 2021|        2021| TV-14|9 Seasons|British TV Shows,...|A talented batch ...|    [United Kingdom]|\n",
            "|    s10|  Movie|        The Starling|      Theodore Melfi|Melissa McCarthy,...|       United States|September 24, 2021|        2021| PG-13|  104 min|    Comedies, Dramas|A woman adjusting...|     [United States]|\n",
            "|    s11|TV Show|Vendetta: Truth, ...|                NULL|                NULL|                NULL|September 24, 2021|        2021| TV-MA| 1 Season|Crime TV Shows, D...|\"Sicily boasts a ...|                NULL|\n",
            "|    s12|TV Show|    Bangkok Breaking|   Kongkiat Komesiri|Sukollawat Kanaro...|                NULL|September 23, 2021|        2021| TV-MA| 1 Season|Crime TV Shows, I...|Struggling to ear...|                NULL|\n",
            "|    s13|  Movie|        Je Suis Karl| Christian Schwochow|Luna Wedler, Jann...|Germany, Czech Re...|September 23, 2021|        2021| TV-MA|  127 min|Dramas, Internati...|After most of her...|[Germany,  Czech ...|\n",
            "|    s14|  Movie|Confessions of an...|       Bruno Garotti|Klara Castanho, L...|                NULL|September 22, 2021|        2021| TV-PG|   91 min|Children & Family...|When the clever b...|                NULL|\n",
            "|    s15|TV Show|Crime Stories: In...|                NULL|                NULL|                NULL|September 22, 2021|        2021| TV-MA| 1 Season|British TV Shows,...|Cameras following...|                NULL|\n",
            "|    s16|TV Show|   Dear White People|                NULL|Logan Browning, B...|       United States|September 22, 2021|        2021| TV-MA|4 Seasons|TV Comedies, TV D...|\"Students of colo...|     [United States]|\n",
            "|    s17|  Movie|Europe's Most Dan...|Pedro de Echave G...|                NULL|                NULL|September 22, 2021|        2020| TV-MA|   67 min|Documentaries, In...|Declassified docu...|                NULL|\n",
            "|    s18|TV Show|     Falsa identidad|                NULL|Luis Ernesto Fran...|              Mexico|September 22, 2021|        2020| TV-MA|2 Seasons|Crime TV Shows, S...|Strangers Diego a...|            [Mexico]|\n",
            "|    s19|  Movie|           Intrusion|          Adam Salky|Freida Pinto, Log...|                NULL|September 22, 2021|        2021| TV-14|   94 min|           Thrillers|After a deadly ho...|                NULL|\n",
            "|    s20|TV Show|              Jaguar|                NULL|Blanca Suárez, Iv...|                NULL|September 22, 2021|        2021| TV-MA| 1 Season|International TV ...|In the 1960s, a H...|                NULL|\n",
            "+-------+-------+--------------------+--------------------+--------------------+--------------------+------------------+------------+------+---------+--------------------+--------------------+--------------------+\n",
            "only showing top 20 rows\n",
            "\n"
          ]
        }
      ]
    },
    {
      "cell_type": "code",
      "source": [
        "## EDA 3 - # of titles added in a year\n",
        "## A lot of movies started coming on netflix post 2017 with a peak in 2019 and 2020, mat be due to COVID-19\n",
        "\n",
        "from pyspark.sql.functions import to_date, year\n",
        "\n",
        "df_final = df_final.withColumn(\"year_added\", year(to_date(df_final['date_added'], \"MMMM d, yyyy\")))\n",
        "\n",
        "df_final.groupBy(\"year_added\").count().orderBy(\"year_added\",ascending=False).show()"
      ],
      "metadata": {
        "id": "ZdImXAV3DgeI",
        "outputId": "786a6503-0048-42a0-a8c7-3f10a3fe113c",
        "colab": {
          "base_uri": "https://localhost:8080/"
        }
      },
      "execution_count": 30,
      "outputs": [
        {
          "output_type": "stream",
          "name": "stdout",
          "text": [
            "+----------+-----+\n",
            "|year_added|count|\n",
            "+----------+-----+\n",
            "|      2021| 1491|\n",
            "|      2020| 1872|\n",
            "|      2019| 1997|\n",
            "|      2018| 1623|\n",
            "|      2017| 1162|\n",
            "|      2016|  418|\n",
            "|      2015|   72|\n",
            "|      2014|   23|\n",
            "|      2013|   10|\n",
            "|      2012|    3|\n",
            "|      2011|   13|\n",
            "|      2010|    1|\n",
            "|      2009|    2|\n",
            "|      2008|    2|\n",
            "|      NULL|  118|\n",
            "+----------+-----+\n",
            "\n"
          ]
        }
      ]
    },
    {
      "cell_type": "code",
      "source": [
        "df_final.show(5)"
      ],
      "metadata": {
        "id": "cc7jPjdEOQgk",
        "outputId": "074c3dc4-f78e-4c43-b1f4-9e1a66530813",
        "colab": {
          "base_uri": "https://localhost:8080/"
        }
      },
      "execution_count": 31,
      "outputs": [
        {
          "output_type": "stream",
          "name": "stdout",
          "text": [
            "+-------+-------+--------------------+---------------+--------------------+-------------+------------------+------------+------+---------+--------------------+--------------------+---------------+----------+\n",
            "|show_id|   type|               title|       director|                cast|      country|        date_added|release_year|rating| duration|           listed_in|         description|  country_array|year_added|\n",
            "+-------+-------+--------------------+---------------+--------------------+-------------+------------------+------------+------+---------+--------------------+--------------------+---------------+----------+\n",
            "|     s1|  Movie|Dick Johnson Is Dead|Kirsten Johnson|                NULL|United States|September 25, 2021|        2020| PG-13|   90 min|       Documentaries|As her father nea...|[United States]|      2021|\n",
            "|     s2|TV Show|       Blood & Water|           NULL|Ama Qamata, Khosi...| South Africa|September 24, 2021|        2021| TV-MA|2 Seasons|International TV ...|After crossing pa...| [South Africa]|      2021|\n",
            "|     s3|TV Show|           Ganglands|Julien Leclercq|Sami Bouajila, Tr...|         NULL|September 24, 2021|        2021| TV-MA| 1 Season|Crime TV Shows, I...|To protect his fa...|           NULL|      2021|\n",
            "|     s4|TV Show|Jailbirds New Orl...|           NULL|                NULL|         NULL|September 24, 2021|        2021| TV-MA| 1 Season|Docuseries, Reali...|Feuds, flirtation...|           NULL|      2021|\n",
            "|     s5|TV Show|        Kota Factory|           NULL|Mayur More, Jiten...|        India|September 24, 2021|        2021| TV-MA|2 Seasons|International TV ...|In a city of coac...|        [India]|      2021|\n",
            "+-------+-------+--------------------+---------------+--------------------+-------------+------------------+------------+------+---------+--------------------+--------------------+---------------+----------+\n",
            "only showing top 5 rows\n",
            "\n"
          ]
        }
      ]
    },
    {
      "cell_type": "code",
      "source": [
        "## Content insights\n",
        "## EDA 4 - What are the most common genres (listed_in) on Netflix?\n",
        "##Split listed_in by comma, explode, and count occurrences.\n",
        "\n",
        "df_final=  df_final.withColumn(\"list_array\", split(df_final.listed_in, ','))\n",
        "list_exploded = df_final.withColumn(\"list_explode\", explode(df_final.list_array))\n",
        "list_exploded = list_exploded.withColumn(\"list_explode\", trim(list_exploded[\"list_explode\"]))\n",
        "list_exploded.show(5)"
      ],
      "metadata": {
        "id": "_an1I9ynOyre",
        "outputId": "c0a2c02a-0dd6-4026-c2ae-4cd40ad8a573",
        "colab": {
          "base_uri": "https://localhost:8080/"
        }
      },
      "execution_count": 32,
      "outputs": [
        {
          "output_type": "stream",
          "name": "stdout",
          "text": [
            "+-------+-------+--------------------+---------------+--------------------+-------------+------------------+------------+------+---------+--------------------+--------------------+---------------+----------+--------------------+--------------------+\n",
            "|show_id|   type|               title|       director|                cast|      country|        date_added|release_year|rating| duration|           listed_in|         description|  country_array|year_added|          list_array|        list_explode|\n",
            "+-------+-------+--------------------+---------------+--------------------+-------------+------------------+------------+------+---------+--------------------+--------------------+---------------+----------+--------------------+--------------------+\n",
            "|     s1|  Movie|Dick Johnson Is Dead|Kirsten Johnson|                NULL|United States|September 25, 2021|        2020| PG-13|   90 min|       Documentaries|As her father nea...|[United States]|      2021|     [Documentaries]|       Documentaries|\n",
            "|     s2|TV Show|       Blood & Water|           NULL|Ama Qamata, Khosi...| South Africa|September 24, 2021|        2021| TV-MA|2 Seasons|International TV ...|After crossing pa...| [South Africa]|      2021|[International TV...|International TV ...|\n",
            "|     s2|TV Show|       Blood & Water|           NULL|Ama Qamata, Khosi...| South Africa|September 24, 2021|        2021| TV-MA|2 Seasons|International TV ...|After crossing pa...| [South Africa]|      2021|[International TV...|           TV Dramas|\n",
            "|     s2|TV Show|       Blood & Water|           NULL|Ama Qamata, Khosi...| South Africa|September 24, 2021|        2021| TV-MA|2 Seasons|International TV ...|After crossing pa...| [South Africa]|      2021|[International TV...|        TV Mysteries|\n",
            "|     s3|TV Show|           Ganglands|Julien Leclercq|Sami Bouajila, Tr...|         NULL|September 24, 2021|        2021| TV-MA| 1 Season|Crime TV Shows, I...|To protect his fa...|           NULL|      2021|[Crime TV Shows, ...|      Crime TV Shows|\n",
            "+-------+-------+--------------------+---------------+--------------------+-------------+------------------+------------+------+---------+--------------------+--------------------+---------------+----------+--------------------+--------------------+\n",
            "only showing top 5 rows\n",
            "\n"
          ]
        }
      ]
    },
    {
      "cell_type": "code",
      "source": [
        "list_exploded.groupBy(\"list_explode\").count().orderBy(\"count\",ascending=False).show()\n",
        "## top genres are - International Movies, Dramas, Comedies, International TV"
      ],
      "metadata": {
        "id": "moUhj6K3ZIsF",
        "outputId": "95e5fd21-0230-4cc6-db5c-602909e9983e",
        "colab": {
          "base_uri": "https://localhost:8080/"
        }
      },
      "execution_count": 33,
      "outputs": [
        {
          "output_type": "stream",
          "name": "stdout",
          "text": [
            "+--------------------+-----+\n",
            "|        list_explode|count|\n",
            "+--------------------+-----+\n",
            "|International Movies| 2748|\n",
            "|              Dramas| 2419|\n",
            "|            Comedies| 1670|\n",
            "|International TV ...| 1350|\n",
            "|       Documentaries|  866|\n",
            "|  Action & Adventure|  857|\n",
            "|           TV Dramas|  762|\n",
            "|  Independent Movies|  751|\n",
            "|Children & Family...|  641|\n",
            "|     Romantic Movies|  616|\n",
            "|         TV Comedies|  580|\n",
            "|           Thrillers|  573|\n",
            "|      Crime TV Shows|  469|\n",
            "|            Kids' TV|  451|\n",
            "|          Docuseries|  395|\n",
            "|    Music & Musicals|  373|\n",
            "|   Romantic TV Shows|  370|\n",
            "|       Horror Movies|  357|\n",
            "|     Stand-Up Comedy|  343|\n",
            "|          Reality TV|  254|\n",
            "+--------------------+-----+\n",
            "only showing top 20 rows\n",
            "\n"
          ]
        }
      ]
    },
    {
      "cell_type": "code",
      "source": [
        "## EDA 5 - Who are the top 10 directors and actors by number of titles?\n",
        "## Split director and cast, explode, and count.\n",
        "\n",
        "df_final.show(5)"
      ],
      "metadata": {
        "id": "JG4zuy7ycM-J",
        "outputId": "274c622a-10cc-4d27-cb38-e4511c7defef",
        "colab": {
          "base_uri": "https://localhost:8080/"
        }
      },
      "execution_count": 34,
      "outputs": [
        {
          "output_type": "stream",
          "name": "stdout",
          "text": [
            "+-------+-------+--------------------+---------------+--------------------+-------------+------------------+------------+------+---------+--------------------+--------------------+---------------+----------+--------------------+\n",
            "|show_id|   type|               title|       director|                cast|      country|        date_added|release_year|rating| duration|           listed_in|         description|  country_array|year_added|          list_array|\n",
            "+-------+-------+--------------------+---------------+--------------------+-------------+------------------+------------+------+---------+--------------------+--------------------+---------------+----------+--------------------+\n",
            "|     s1|  Movie|Dick Johnson Is Dead|Kirsten Johnson|                NULL|United States|September 25, 2021|        2020| PG-13|   90 min|       Documentaries|As her father nea...|[United States]|      2021|     [Documentaries]|\n",
            "|     s2|TV Show|       Blood & Water|           NULL|Ama Qamata, Khosi...| South Africa|September 24, 2021|        2021| TV-MA|2 Seasons|International TV ...|After crossing pa...| [South Africa]|      2021|[International TV...|\n",
            "|     s3|TV Show|           Ganglands|Julien Leclercq|Sami Bouajila, Tr...|         NULL|September 24, 2021|        2021| TV-MA| 1 Season|Crime TV Shows, I...|To protect his fa...|           NULL|      2021|[Crime TV Shows, ...|\n",
            "|     s4|TV Show|Jailbirds New Orl...|           NULL|                NULL|         NULL|September 24, 2021|        2021| TV-MA| 1 Season|Docuseries, Reali...|Feuds, flirtation...|           NULL|      2021|[Docuseries,  Rea...|\n",
            "|     s5|TV Show|        Kota Factory|           NULL|Mayur More, Jiten...|        India|September 24, 2021|        2021| TV-MA|2 Seasons|International TV ...|In a city of coac...|        [India]|      2021|[International TV...|\n",
            "+-------+-------+--------------------+---------------+--------------------+-------------+------------------+------------+------+---------+--------------------+--------------------+---------------+----------+--------------------+\n",
            "only showing top 5 rows\n",
            "\n"
          ]
        }
      ]
    },
    {
      "cell_type": "code",
      "source": [
        "## top 10 directors\n",
        "\n",
        "from pyspark.sql.functions import col\n",
        "\n",
        "director = df_final.withColumn(\"director_array\",split(df_final.director,','))\n",
        "director = director.withColumn(\"director_explode\", explode(director.director_array))\n",
        "director = director.withColumn(\"director_explode\", trim(director.director_explode)).filter(col(\"director_explode\") != \"\") \\\n",
        "                           .filter(col(\"director_explode\").isNotNull())\n",
        "\n",
        "director.groupBy('director_explode').count().orderBy('count', ascending=False).show(10)\n",
        "# director.show(5)"
      ],
      "metadata": {
        "id": "wezIniqw14xM",
        "outputId": "c90fbd67-3683-4cb0-db12-0cbd5b485613",
        "colab": {
          "base_uri": "https://localhost:8080/"
        }
      },
      "execution_count": 46,
      "outputs": [
        {
          "output_type": "stream",
          "name": "stdout",
          "text": [
            "+-------------------+-----+\n",
            "|   director_explode|count|\n",
            "+-------------------+-----+\n",
            "|      Rajiv Chilaka|   22|\n",
            "|          Jan Suter|   21|\n",
            "|        Raúl Campos|   19|\n",
            "|       Marcus Raboy|   16|\n",
            "|        Suhas Kadav|   16|\n",
            "|          Jay Karas|   15|\n",
            "|Cathy Garcia-Molina|   13|\n",
            "|    Youssef Chahine|   12|\n",
            "|    Martin Scorsese|   12|\n",
            "|        Jay Chapman|   12|\n",
            "+-------------------+-----+\n",
            "only showing top 10 rows\n",
            "\n"
          ]
        }
      ]
    },
    {
      "cell_type": "code",
      "source": [
        "## top 10 actors\n",
        "\n",
        "from pyspark.sql.functions import col\n",
        "\n",
        "cast = df_final.withColumn(\"cast_array\",split(df_final.cast,','))\n",
        "cast = cast.withColumn(\"cast_explode\", explode(cast.cast_array))\n",
        "cast = cast.withColumn(\"cast_explode\", trim(cast.cast_explode)).filter(col(\"cast_explode\") != \"\") \\\n",
        "                           .filter(col(\"cast_explode\").isNotNull())\n",
        "\n",
        "cast.groupBy('cast_explode').count().orderBy('count', ascending=False).show(10)"
      ],
      "metadata": {
        "id": "_OaxQ7Mb4UxA",
        "outputId": "a8cb5e40-9a23-42f1-dd9b-a8e6477e03a8",
        "colab": {
          "base_uri": "https://localhost:8080/"
        }
      },
      "execution_count": 47,
      "outputs": [
        {
          "output_type": "stream",
          "name": "stdout",
          "text": [
            "+----------------+-----+\n",
            "|    cast_explode|count|\n",
            "+----------------+-----+\n",
            "|     Anupam Kher|   43|\n",
            "|  Shah Rukh Khan|   35|\n",
            "|   Julie Tejwani|   33|\n",
            "|Takahiro Sakurai|   32|\n",
            "|Naseeruddin Shah|   32|\n",
            "|    Rupa Bhimani|   31|\n",
            "|    Akshay Kumar|   30|\n",
            "|         Om Puri|   30|\n",
            "|       Yuki Kaji|   29|\n",
            "|Amitabh Bachchan|   28|\n",
            "+----------------+-----+\n",
            "only showing top 10 rows\n",
            "\n"
          ]
        }
      ]
    },
    {
      "cell_type": "code",
      "source": [],
      "metadata": {
        "id": "3MlEdQ8Y6Gdn"
      },
      "execution_count": 45,
      "outputs": []
    }
  ],
  "metadata": {
    "colab": {
      "provenance": [],
      "include_colab_link": true
    },
    "kernelspec": {
      "display_name": "Python 3",
      "name": "python3"
    }
  },
  "nbformat": 4,
  "nbformat_minor": 0
}