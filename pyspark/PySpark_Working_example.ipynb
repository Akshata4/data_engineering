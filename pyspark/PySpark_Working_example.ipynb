{
  "cells": [
    {
      "cell_type": "markdown",
      "metadata": {
        "id": "view-in-github",
        "colab_type": "text"
      },
      "source": [
        "<a href=\"https://colab.research.google.com/github/Akshata4/data_engineering/blob/main/pyspark/PySpark_Working_example.ipynb\" target=\"_parent\"><img src=\"https://colab.research.google.com/assets/colab-badge.svg\" alt=\"Open In Colab\"/></a>"
      ]
    },
    {
      "cell_type": "code",
      "source": [
        "!pip install pyspark findspark"
      ],
      "metadata": {
        "id": "5mGF9J2s2fy3",
        "outputId": "aecd77f2-9c46-459e-f670-c4fbc8e625f8",
        "colab": {
          "base_uri": "https://localhost:8080/"
        }
      },
      "execution_count": 8,
      "outputs": [
        {
          "output_type": "stream",
          "name": "stdout",
          "text": [
            "Requirement already satisfied: pyspark in /usr/local/lib/python3.11/dist-packages (3.5.1)\n",
            "Requirement already satisfied: findspark in /usr/local/lib/python3.11/dist-packages (2.0.1)\n",
            "Requirement already satisfied: py4j==0.10.9.7 in /usr/local/lib/python3.11/dist-packages (from pyspark) (0.10.9.7)\n"
          ]
        }
      ]
    },
    {
      "cell_type": "code",
      "source": [
        "!java -version"
      ],
      "metadata": {
        "id": "-8rR1yVa4BdZ",
        "outputId": "f89482ba-6bfa-4684-d1db-0b8935cc1b3d",
        "colab": {
          "base_uri": "https://localhost:8080/"
        }
      },
      "execution_count": 9,
      "outputs": [
        {
          "output_type": "stream",
          "name": "stdout",
          "text": [
            "openjdk version \"11.0.27\" 2025-04-15\n",
            "OpenJDK Runtime Environment (build 11.0.27+6-post-Ubuntu-0ubuntu122.04)\n",
            "OpenJDK 64-Bit Server VM (build 11.0.27+6-post-Ubuntu-0ubuntu122.04, mixed mode, sharing)\n"
          ]
        }
      ]
    },
    {
      "cell_type": "code",
      "source": [
        "import findspark\n",
        "findspark.init()"
      ],
      "metadata": {
        "id": "rvOQMiGA2epu"
      },
      "execution_count": 10,
      "outputs": []
    },
    {
      "cell_type": "code",
      "source": [
        "%cd /content/"
      ],
      "metadata": {
        "colab": {
          "base_uri": "https://localhost:8080/"
        },
        "id": "dmvuTHJY6ke3",
        "outputId": "91e66bd4-7a26-44f3-a218-e39cdcea3c49"
      },
      "execution_count": 11,
      "outputs": [
        {
          "output_type": "stream",
          "name": "stdout",
          "text": [
            "/content\n"
          ]
        }
      ]
    },
    {
      "cell_type": "code",
      "source": [
        "from pyspark.sql import SparkSession\n",
        "# from pyspark.ml.feature import VectorAssembler\n",
        "# from pyspark.ml.regression import LinearRegression"
      ],
      "metadata": {
        "id": "R3kD2DPeybgY"
      },
      "execution_count": 12,
      "outputs": []
    },
    {
      "cell_type": "code",
      "source": [
        "spark = SparkSession.builder.appName(\"MyApp\").master(\"local[*]\").getOrCreate()"
      ],
      "metadata": {
        "id": "jhr-JeW-ylgr"
      },
      "execution_count": 13,
      "outputs": []
    },
    {
      "cell_type": "code",
      "source": [
        "df = spark.read.csv('/content/sample_data/netflix_titles.csv', header=True)"
      ],
      "metadata": {
        "id": "uZVRmU583pYY"
      },
      "execution_count": 14,
      "outputs": []
    },
    {
      "cell_type": "code",
      "source": [
        "df.show(5)"
      ],
      "metadata": {
        "id": "6V-8j5Um366x",
        "outputId": "2177eb8b-f4a6-4e2e-9282-d27ee372dd76",
        "colab": {
          "base_uri": "https://localhost:8080/"
        }
      },
      "execution_count": 15,
      "outputs": [
        {
          "output_type": "stream",
          "name": "stdout",
          "text": [
            "+-------+-------+--------------------+---------------+--------------------+-------------+------------------+------------+------+---------+--------------------+--------------------+\n",
            "|show_id|   type|               title|       director|                cast|      country|        date_added|release_year|rating| duration|           listed_in|         description|\n",
            "+-------+-------+--------------------+---------------+--------------------+-------------+------------------+------------+------+---------+--------------------+--------------------+\n",
            "|     s1|  Movie|Dick Johnson Is Dead|Kirsten Johnson|                NULL|United States|September 25, 2021|        2020| PG-13|   90 min|       Documentaries|As her father nea...|\n",
            "|     s2|TV Show|       Blood & Water|           NULL|Ama Qamata, Khosi...| South Africa|September 24, 2021|        2021| TV-MA|2 Seasons|International TV ...|After crossing pa...|\n",
            "|     s3|TV Show|           Ganglands|Julien Leclercq|Sami Bouajila, Tr...|         NULL|September 24, 2021|        2021| TV-MA| 1 Season|Crime TV Shows, I...|To protect his fa...|\n",
            "|     s4|TV Show|Jailbirds New Orl...|           NULL|                NULL|         NULL|September 24, 2021|        2021| TV-MA| 1 Season|Docuseries, Reali...|Feuds, flirtation...|\n",
            "|     s5|TV Show|        Kota Factory|           NULL|Mayur More, Jiten...|        India|September 24, 2021|        2021| TV-MA|2 Seasons|International TV ...|In a city of coac...|\n",
            "+-------+-------+--------------------+---------------+--------------------+-------------+------------------+------------+------+---------+--------------------+--------------------+\n",
            "only showing top 5 rows\n",
            "\n"
          ]
        }
      ]
    },
    {
      "cell_type": "code",
      "source": [
        "spark"
      ],
      "metadata": {
        "id": "ysZFIH11s1lY",
        "colab": {
          "base_uri": "https://localhost:8080/",
          "height": 219
        },
        "outputId": "ea94c01b-b092-416f-d128-e415bb522dda"
      },
      "execution_count": 16,
      "outputs": [
        {
          "output_type": "execute_result",
          "data": {
            "text/plain": [
              "<pyspark.sql.session.SparkSession at 0x7cb2c1ef9450>"
            ],
            "text/html": [
              "\n",
              "            <div>\n",
              "                <p><b>SparkSession - in-memory</b></p>\n",
              "                \n",
              "        <div>\n",
              "            <p><b>SparkContext</b></p>\n",
              "\n",
              "            <p><a href=\"http://3e5ed8235af8:4040\">Spark UI</a></p>\n",
              "\n",
              "            <dl>\n",
              "              <dt>Version</dt>\n",
              "                <dd><code>v3.5.1</code></dd>\n",
              "              <dt>Master</dt>\n",
              "                <dd><code>local[*]</code></dd>\n",
              "              <dt>AppName</dt>\n",
              "                <dd><code>MyApp</code></dd>\n",
              "            </dl>\n",
              "        </div>\n",
              "        \n",
              "            </div>\n",
              "        "
            ]
          },
          "metadata": {},
          "execution_count": 16
        }
      ]
    },
    {
      "cell_type": "code",
      "source": [
        "df.rdd.getNumPartitions()"
      ],
      "metadata": {
        "id": "Ifg5-20Xs5lJ",
        "colab": {
          "base_uri": "https://localhost:8080/"
        },
        "outputId": "b17b1411-5ca4-4ae2-92e2-f50e0920aaab"
      },
      "execution_count": 17,
      "outputs": [
        {
          "output_type": "execute_result",
          "data": {
            "text/plain": [
              "1"
            ]
          },
          "metadata": {},
          "execution_count": 17
        }
      ]
    },
    {
      "cell_type": "code",
      "source": [
        "df1 = df.where(df.type==\"Movie\")"
      ],
      "metadata": {
        "id": "ysLKMRWR1RGp"
      },
      "execution_count": 18,
      "outputs": []
    },
    {
      "cell_type": "code",
      "source": [
        "df1.show(5)"
      ],
      "metadata": {
        "colab": {
          "base_uri": "https://localhost:8080/"
        },
        "id": "5W2m7EXB332d",
        "outputId": "71e1730c-8482-4185-b2e8-58b9e02630bf"
      },
      "execution_count": 19,
      "outputs": [
        {
          "output_type": "stream",
          "name": "stdout",
          "text": [
            "+-------+-----+--------------------+--------------------+--------------------+--------------------+------------------+------------+------+--------+--------------------+--------------------+\n",
            "|show_id| type|               title|            director|                cast|             country|        date_added|release_year|rating|duration|           listed_in|         description|\n",
            "+-------+-----+--------------------+--------------------+--------------------+--------------------+------------------+------------+------+--------+--------------------+--------------------+\n",
            "|     s1|Movie|Dick Johnson Is Dead|     Kirsten Johnson|                NULL|       United States|September 25, 2021|        2020| PG-13|  90 min|       Documentaries|As her father nea...|\n",
            "|     s7|Movie|My Little Pony: A...|Robert Cullen, Jo...|Vanessa Hudgens, ...|                NULL|September 24, 2021|        2021|    PG|  91 min|Children & Family...|Equestria's divid...|\n",
            "|     s8|Movie|             Sankofa|        Haile Gerima|Kofi Ghanaba, Oya...|United States, Gh...|September 24, 2021|        1993| TV-MA| 125 min|Dramas, Independe...|On a photo shoot ...|\n",
            "|    s10|Movie|        The Starling|      Theodore Melfi|Melissa McCarthy,...|       United States|September 24, 2021|        2021| PG-13| 104 min|    Comedies, Dramas|A woman adjusting...|\n",
            "|    s13|Movie|        Je Suis Karl| Christian Schwochow|Luna Wedler, Jann...|Germany, Czech Re...|September 23, 2021|        2021| TV-MA| 127 min|Dramas, Internati...|After most of her...|\n",
            "+-------+-----+--------------------+--------------------+--------------------+--------------------+------------------+------------+------+--------+--------------------+--------------------+\n",
            "only showing top 5 rows\n",
            "\n"
          ]
        }
      ]
    },
    {
      "cell_type": "code",
      "source": [
        "df1.rdd.getNumPartitions()"
      ],
      "metadata": {
        "colab": {
          "base_uri": "https://localhost:8080/"
        },
        "id": "wZeWfeHc4V_w",
        "outputId": "0839d953-4718-43a9-a214-45170e16210e"
      },
      "execution_count": 20,
      "outputs": [
        {
          "output_type": "execute_result",
          "data": {
            "text/plain": [
              "1"
            ]
          },
          "metadata": {},
          "execution_count": 20
        }
      ]
    },
    {
      "cell_type": "code",
      "source": [
        "df1.write.csv(\"/content/sample_data/output\", header=True,mode=\"overwrite\")"
      ],
      "metadata": {
        "id": "wHKnrvOG4jQ0"
      },
      "execution_count": 21,
      "outputs": []
    },
    {
      "cell_type": "code",
      "source": [
        "df.groupBy(\"type\").count().show()"
      ],
      "metadata": {
        "colab": {
          "base_uri": "https://localhost:8080/"
        },
        "id": "TQdKIExI40P-",
        "outputId": "d44b1341-7196-4dd9-d629-c3bb1ce5a827"
      },
      "execution_count": 22,
      "outputs": [
        {
          "output_type": "stream",
          "name": "stdout",
          "text": [
            "+-------------+-----+\n",
            "|         type|count|\n",
            "+-------------+-----+\n",
            "|         NULL|    1|\n",
            "|      TV Show| 2676|\n",
            "|        Movie| 6131|\n",
            "|William Wyler|    1|\n",
            "+-------------+-----+\n",
            "\n"
          ]
        }
      ]
    },
    {
      "cell_type": "code",
      "source": [
        "df.where(df.type==\"William Wyler\").show()"
      ],
      "metadata": {
        "id": "uWiW0PKnKEhF",
        "outputId": "6c72139a-64d6-4dd0-c8b1-2ce9f93cac6f",
        "colab": {
          "base_uri": "https://localhost:8080/"
        }
      },
      "execution_count": 23,
      "outputs": [
        {
          "output_type": "stream",
          "name": "stdout",
          "text": [
            "+----------------+-------------+-----+-------------+--------------+-------+----------+------------+--------------------+--------------------+---------+-----------+\n",
            "|         show_id|         type|title|     director|          cast|country|date_added|release_year|              rating|            duration|listed_in|description|\n",
            "+----------------+-------------+-----+-------------+--------------+-------+----------+------------+--------------------+--------------------+---------+-----------+\n",
            "|Flying Fortress\"|William Wyler| NULL|United States|March 31, 2017|   1944|     TV-PG|      40 min|Classic Movies, D...|This documentary ...|     NULL|       NULL|\n",
            "+----------------+-------------+-----+-------------+--------------+-------+----------+------------+--------------------+--------------------+---------+-----------+\n",
            "\n"
          ]
        }
      ]
    },
    {
      "cell_type": "code",
      "source": [
        "## EDA 1, also removed nul value and one errornous record\n",
        "\n",
        "df_final = df.filter((df.type!=\"William Wyler\"))\n",
        "df_final = df_final.filter((df.type!=\"NULL\"))\n",
        "df_final.groupBy(\"type\").count().show()"
      ],
      "metadata": {
        "id": "lbOqwlw3KN_j",
        "outputId": "2f89b45f-c2ea-4a12-9471-fa63fc33e1b1",
        "colab": {
          "base_uri": "https://localhost:8080/"
        }
      },
      "execution_count": 24,
      "outputs": [
        {
          "output_type": "stream",
          "name": "stdout",
          "text": [
            "+-------+-----+\n",
            "|   type|count|\n",
            "+-------+-----+\n",
            "|TV Show| 2676|\n",
            "|  Movie| 6131|\n",
            "+-------+-----+\n",
            "\n"
          ]
        }
      ]
    },
    {
      "cell_type": "code",
      "source": [
        "## EDA 2 - What is the distribution of content by country?\n",
        "## need to split country by \",\"\n",
        "\n",
        "df.groupBy(\"country\").count().show()"
      ],
      "metadata": {
        "id": "c7RxrHnWKr6f",
        "outputId": "618798f2-8a54-460f-fbaf-89d69a14b679",
        "colab": {
          "base_uri": "https://localhost:8080/"
        }
      },
      "execution_count": 25,
      "outputs": [
        {
          "output_type": "stream",
          "name": "stdout",
          "text": [
            "+--------------------+-----+\n",
            "|             country|count|\n",
            "+--------------------+-----+\n",
            "|Peru, United Stat...|    1|\n",
            "|India, United Kin...|    1|\n",
            "|Japan, Canada, Un...|    1|\n",
            "|United Kingdom, C...|    1|\n",
            "|      India, Germany|    2|\n",
            "|South Africa, Uni...|    1|\n",
            "|              Russia|   15|\n",
            "|United Kingdom, G...|    1|\n",
            "|Chile, United Sta...|    1|\n",
            "|South Africa, Angola|    1|\n",
            "|United States, Po...|    1|\n",
            "|  Philippines, Qatar|    1|\n",
            "|Hong Kong, China,...|    1|\n",
            "|  Germany, Sri Lanka|    1|\n",
            "|Denmark, France, ...|    1|\n",
            "|United States, Fr...|    1|\n",
            "|United Kingdom, N...|    2|\n",
            "|Australia, United...|    2|\n",
            "|Brazil, France, G...|    1|\n",
            "|United States, Ir...|    3|\n",
            "+--------------------+-----+\n",
            "only showing top 20 rows\n",
            "\n"
          ]
        }
      ]
    },
    {
      "cell_type": "code",
      "source": [
        "df_final.show(3)"
      ],
      "metadata": {
        "id": "i5J0DBQ-M9_q",
        "outputId": "96951fe9-3b11-43d1-aba8-f8d24b4b9aef",
        "colab": {
          "base_uri": "https://localhost:8080/"
        }
      },
      "execution_count": 26,
      "outputs": [
        {
          "output_type": "stream",
          "name": "stdout",
          "text": [
            "+-------+-------+--------------------+---------------+--------------------+-------------+------------------+------------+------+---------+--------------------+--------------------+\n",
            "|show_id|   type|               title|       director|                cast|      country|        date_added|release_year|rating| duration|           listed_in|         description|\n",
            "+-------+-------+--------------------+---------------+--------------------+-------------+------------------+------------+------+---------+--------------------+--------------------+\n",
            "|     s1|  Movie|Dick Johnson Is Dead|Kirsten Johnson|                NULL|United States|September 25, 2021|        2020| PG-13|   90 min|       Documentaries|As her father nea...|\n",
            "|     s2|TV Show|       Blood & Water|           NULL|Ama Qamata, Khosi...| South Africa|September 24, 2021|        2021| TV-MA|2 Seasons|International TV ...|After crossing pa...|\n",
            "|     s3|TV Show|           Ganglands|Julien Leclercq|Sami Bouajila, Tr...|         NULL|September 24, 2021|        2021| TV-MA| 1 Season|Crime TV Shows, I...|To protect his fa...|\n",
            "+-------+-------+--------------------+---------------+--------------------+-------------+------------------+------------+------+---------+--------------------+--------------------+\n",
            "only showing top 3 rows\n",
            "\n"
          ]
        }
      ]
    },
    {
      "cell_type": "code",
      "source": [
        "## split country by ','\n",
        "\n",
        "from pyspark.sql.functions import split\n",
        "from pyspark.sql.functions import explode\n",
        "from pyspark.sql.functions import trim\n",
        "\n",
        "df_final = df_final.withColumn(\"country_array\", split(df_final[\"country\"],','))\n",
        "df_final.show()\n",
        "df_exploded = df_final.withColumn(\"country_exploded\", explode(df_final[\"country_array\"]))\n",
        "df_exploded = df_exploded.withColumn(\"country_exploded\", trim(df_exploded[\"country_exploded\"]))\n",
        "df_exploded.show()\n"
      ],
      "metadata": {
        "id": "DIUO8nsCNDHN",
        "outputId": "4a43e340-f7e7-4a70-ddef-1907baf92c46",
        "colab": {
          "base_uri": "https://localhost:8080/"
        }
      },
      "execution_count": 27,
      "outputs": [
        {
          "output_type": "stream",
          "name": "stdout",
          "text": [
            "+-------+-------+--------------------+--------------------+--------------------+--------------------+------------------+------------+------+---------+--------------------+--------------------+--------------------+\n",
            "|show_id|   type|               title|            director|                cast|             country|        date_added|release_year|rating| duration|           listed_in|         description|       country_array|\n",
            "+-------+-------+--------------------+--------------------+--------------------+--------------------+------------------+------------+------+---------+--------------------+--------------------+--------------------+\n",
            "|     s1|  Movie|Dick Johnson Is Dead|     Kirsten Johnson|                NULL|       United States|September 25, 2021|        2020| PG-13|   90 min|       Documentaries|As her father nea...|     [United States]|\n",
            "|     s2|TV Show|       Blood & Water|                NULL|Ama Qamata, Khosi...|        South Africa|September 24, 2021|        2021| TV-MA|2 Seasons|International TV ...|After crossing pa...|      [South Africa]|\n",
            "|     s3|TV Show|           Ganglands|     Julien Leclercq|Sami Bouajila, Tr...|                NULL|September 24, 2021|        2021| TV-MA| 1 Season|Crime TV Shows, I...|To protect his fa...|                NULL|\n",
            "|     s4|TV Show|Jailbirds New Orl...|                NULL|                NULL|                NULL|September 24, 2021|        2021| TV-MA| 1 Season|Docuseries, Reali...|Feuds, flirtation...|                NULL|\n",
            "|     s5|TV Show|        Kota Factory|                NULL|Mayur More, Jiten...|               India|September 24, 2021|        2021| TV-MA|2 Seasons|International TV ...|In a city of coac...|             [India]|\n",
            "|     s6|TV Show|       Midnight Mass|       Mike Flanagan|Kate Siegel, Zach...|                NULL|September 24, 2021|        2021| TV-MA| 1 Season|TV Dramas, TV Hor...|The arrival of a ...|                NULL|\n",
            "|     s7|  Movie|My Little Pony: A...|Robert Cullen, Jo...|Vanessa Hudgens, ...|                NULL|September 24, 2021|        2021|    PG|   91 min|Children & Family...|Equestria's divid...|                NULL|\n",
            "|     s8|  Movie|             Sankofa|        Haile Gerima|Kofi Ghanaba, Oya...|United States, Gh...|September 24, 2021|        1993| TV-MA|  125 min|Dramas, Independe...|On a photo shoot ...|[United States,  ...|\n",
            "|     s9|TV Show|The Great British...|     Andy Devonshire|Mel Giedroyc, Sue...|      United Kingdom|September 24, 2021|        2021| TV-14|9 Seasons|British TV Shows,...|A talented batch ...|    [United Kingdom]|\n",
            "|    s10|  Movie|        The Starling|      Theodore Melfi|Melissa McCarthy,...|       United States|September 24, 2021|        2021| PG-13|  104 min|    Comedies, Dramas|A woman adjusting...|     [United States]|\n",
            "|    s11|TV Show|Vendetta: Truth, ...|                NULL|                NULL|                NULL|September 24, 2021|        2021| TV-MA| 1 Season|Crime TV Shows, D...|\"Sicily boasts a ...|                NULL|\n",
            "|    s12|TV Show|    Bangkok Breaking|   Kongkiat Komesiri|Sukollawat Kanaro...|                NULL|September 23, 2021|        2021| TV-MA| 1 Season|Crime TV Shows, I...|Struggling to ear...|                NULL|\n",
            "|    s13|  Movie|        Je Suis Karl| Christian Schwochow|Luna Wedler, Jann...|Germany, Czech Re...|September 23, 2021|        2021| TV-MA|  127 min|Dramas, Internati...|After most of her...|[Germany,  Czech ...|\n",
            "|    s14|  Movie|Confessions of an...|       Bruno Garotti|Klara Castanho, L...|                NULL|September 22, 2021|        2021| TV-PG|   91 min|Children & Family...|When the clever b...|                NULL|\n",
            "|    s15|TV Show|Crime Stories: In...|                NULL|                NULL|                NULL|September 22, 2021|        2021| TV-MA| 1 Season|British TV Shows,...|Cameras following...|                NULL|\n",
            "|    s16|TV Show|   Dear White People|                NULL|Logan Browning, B...|       United States|September 22, 2021|        2021| TV-MA|4 Seasons|TV Comedies, TV D...|\"Students of colo...|     [United States]|\n",
            "|    s17|  Movie|Europe's Most Dan...|Pedro de Echave G...|                NULL|                NULL|September 22, 2021|        2020| TV-MA|   67 min|Documentaries, In...|Declassified docu...|                NULL|\n",
            "|    s18|TV Show|     Falsa identidad|                NULL|Luis Ernesto Fran...|              Mexico|September 22, 2021|        2020| TV-MA|2 Seasons|Crime TV Shows, S...|Strangers Diego a...|            [Mexico]|\n",
            "|    s19|  Movie|           Intrusion|          Adam Salky|Freida Pinto, Log...|                NULL|September 22, 2021|        2021| TV-14|   94 min|           Thrillers|After a deadly ho...|                NULL|\n",
            "|    s20|TV Show|              Jaguar|                NULL|Blanca Suárez, Iv...|                NULL|September 22, 2021|        2021| TV-MA| 1 Season|International TV ...|In the 1960s, a H...|                NULL|\n",
            "+-------+-------+--------------------+--------------------+--------------------+--------------------+------------------+------------+------+---------+--------------------+--------------------+--------------------+\n",
            "only showing top 20 rows\n",
            "\n",
            "+-------+-------+--------------------+-------------------+--------------------+--------------------+------------------+------------+------+---------+--------------------+--------------------+--------------------+----------------+\n",
            "|show_id|   type|               title|           director|                cast|             country|        date_added|release_year|rating| duration|           listed_in|         description|       country_array|country_exploded|\n",
            "+-------+-------+--------------------+-------------------+--------------------+--------------------+------------------+------------+------+---------+--------------------+--------------------+--------------------+----------------+\n",
            "|     s1|  Movie|Dick Johnson Is Dead|    Kirsten Johnson|                NULL|       United States|September 25, 2021|        2020| PG-13|   90 min|       Documentaries|As her father nea...|     [United States]|   United States|\n",
            "|     s2|TV Show|       Blood & Water|               NULL|Ama Qamata, Khosi...|        South Africa|September 24, 2021|        2021| TV-MA|2 Seasons|International TV ...|After crossing pa...|      [South Africa]|    South Africa|\n",
            "|     s5|TV Show|        Kota Factory|               NULL|Mayur More, Jiten...|               India|September 24, 2021|        2021| TV-MA|2 Seasons|International TV ...|In a city of coac...|             [India]|           India|\n",
            "|     s8|  Movie|             Sankofa|       Haile Gerima|Kofi Ghanaba, Oya...|United States, Gh...|September 24, 2021|        1993| TV-MA|  125 min|Dramas, Independe...|On a photo shoot ...|[United States,  ...|   United States|\n",
            "|     s8|  Movie|             Sankofa|       Haile Gerima|Kofi Ghanaba, Oya...|United States, Gh...|September 24, 2021|        1993| TV-MA|  125 min|Dramas, Independe...|On a photo shoot ...|[United States,  ...|           Ghana|\n",
            "|     s8|  Movie|             Sankofa|       Haile Gerima|Kofi Ghanaba, Oya...|United States, Gh...|September 24, 2021|        1993| TV-MA|  125 min|Dramas, Independe...|On a photo shoot ...|[United States,  ...|    Burkina Faso|\n",
            "|     s8|  Movie|             Sankofa|       Haile Gerima|Kofi Ghanaba, Oya...|United States, Gh...|September 24, 2021|        1993| TV-MA|  125 min|Dramas, Independe...|On a photo shoot ...|[United States,  ...|  United Kingdom|\n",
            "|     s8|  Movie|             Sankofa|       Haile Gerima|Kofi Ghanaba, Oya...|United States, Gh...|September 24, 2021|        1993| TV-MA|  125 min|Dramas, Independe...|On a photo shoot ...|[United States,  ...|         Germany|\n",
            "|     s8|  Movie|             Sankofa|       Haile Gerima|Kofi Ghanaba, Oya...|United States, Gh...|September 24, 2021|        1993| TV-MA|  125 min|Dramas, Independe...|On a photo shoot ...|[United States,  ...|        Ethiopia|\n",
            "|     s9|TV Show|The Great British...|    Andy Devonshire|Mel Giedroyc, Sue...|      United Kingdom|September 24, 2021|        2021| TV-14|9 Seasons|British TV Shows,...|A talented batch ...|    [United Kingdom]|  United Kingdom|\n",
            "|    s10|  Movie|        The Starling|     Theodore Melfi|Melissa McCarthy,...|       United States|September 24, 2021|        2021| PG-13|  104 min|    Comedies, Dramas|A woman adjusting...|     [United States]|   United States|\n",
            "|    s13|  Movie|        Je Suis Karl|Christian Schwochow|Luna Wedler, Jann...|Germany, Czech Re...|September 23, 2021|        2021| TV-MA|  127 min|Dramas, Internati...|After most of her...|[Germany,  Czech ...|         Germany|\n",
            "|    s13|  Movie|        Je Suis Karl|Christian Schwochow|Luna Wedler, Jann...|Germany, Czech Re...|September 23, 2021|        2021| TV-MA|  127 min|Dramas, Internati...|After most of her...|[Germany,  Czech ...|  Czech Republic|\n",
            "|    s16|TV Show|   Dear White People|               NULL|Logan Browning, B...|       United States|September 22, 2021|        2021| TV-MA|4 Seasons|TV Comedies, TV D...|\"Students of colo...|     [United States]|   United States|\n",
            "|    s18|TV Show|     Falsa identidad|               NULL|Luis Ernesto Fran...|              Mexico|September 22, 2021|        2020| TV-MA|2 Seasons|Crime TV Shows, S...|Strangers Diego a...|            [Mexico]|          Mexico|\n",
            "|    s22|TV Show|Resurrection: Ert...|               NULL|Engin Altan Düzya...|              Turkey|September 22, 2021|        2018| TV-14|5 Seasons|International TV ...|When a good deed ...|            [Turkey]|          Turkey|\n",
            "|    s25|  Movie|               Jeans|         S. Shankar|Prashanth, Aishwa...|               India|September 21, 2021|        1998| TV-14|  166 min|Comedies, Interna...|When the father o...|             [India]|           India|\n",
            "|    s26|TV Show|Love on the Spectrum|               NULL|    Brooke Satchwell|           Australia|September 21, 2021|        2021| TV-14|2 Seasons|Docuseries, Inter...|Finding love can ...|         [Australia]|       Australia|\n",
            "|    s28|  Movie|           Grown Ups|       Dennis Dugan|Adam Sandler, Kev...|       United States|September 20, 2021|        2010| PG-13|  103 min|            Comedies|Mourning the loss...|     [United States]|   United States|\n",
            "|    s29|  Movie|          Dark Skies|      Scott Stewart|Keri Russell, Jos...|       United States|September 19, 2021|        2013| PG-13|   97 min|Horror Movies, Sc...|A family’s idylli...|     [United States]|   United States|\n",
            "+-------+-------+--------------------+-------------------+--------------------+--------------------+------------------+------------+------+---------+--------------------+--------------------+--------------------+----------------+\n",
            "only showing top 20 rows\n",
            "\n"
          ]
        }
      ]
    },
    {
      "cell_type": "code",
      "source": [
        "df_exploded.groupBy(\"country_exploded\").count().orderBy(\"count\",ascending=False).show()\n",
        "\n",
        "## top content producing countries are usa, india, uk"
      ],
      "metadata": {
        "id": "bV3rWgIZ_tw2",
        "outputId": "98483671-f860-4ded-cc12-ea29c800423a",
        "colab": {
          "base_uri": "https://localhost:8080/"
        }
      },
      "execution_count": 28,
      "outputs": [
        {
          "output_type": "stream",
          "name": "stdout",
          "text": [
            "+----------------+-----+\n",
            "|country_exploded|count|\n",
            "+----------------+-----+\n",
            "|   United States| 3676|\n",
            "|           India| 1046|\n",
            "|  United Kingdom|  805|\n",
            "|          Canada|  445|\n",
            "|          France|  392|\n",
            "|           Japan|  318|\n",
            "|     South Korea|  231|\n",
            "|           Spain|  230|\n",
            "|         Germany|  224|\n",
            "|          Mexico|  169|\n",
            "|           China|  162|\n",
            "|       Australia|  160|\n",
            "|           Egypt|  117|\n",
            "|          Turkey|  113|\n",
            "|       Hong Kong|  105|\n",
            "|         Nigeria|  101|\n",
            "|           Italy|  100|\n",
            "|          Brazil|   97|\n",
            "|       Argentina|   91|\n",
            "|         Belgium|   90|\n",
            "+----------------+-----+\n",
            "only showing top 20 rows\n",
            "\n"
          ]
        }
      ]
    },
    {
      "cell_type": "code",
      "source": [
        "df_final.show()"
      ],
      "metadata": {
        "id": "gVRtrmvfCFaZ",
        "outputId": "3a917315-a919-4f3e-829b-9bba007f552a",
        "colab": {
          "base_uri": "https://localhost:8080/"
        }
      },
      "execution_count": 29,
      "outputs": [
        {
          "output_type": "stream",
          "name": "stdout",
          "text": [
            "+-------+-------+--------------------+--------------------+--------------------+--------------------+------------------+------------+------+---------+--------------------+--------------------+--------------------+\n",
            "|show_id|   type|               title|            director|                cast|             country|        date_added|release_year|rating| duration|           listed_in|         description|       country_array|\n",
            "+-------+-------+--------------------+--------------------+--------------------+--------------------+------------------+------------+------+---------+--------------------+--------------------+--------------------+\n",
            "|     s1|  Movie|Dick Johnson Is Dead|     Kirsten Johnson|                NULL|       United States|September 25, 2021|        2020| PG-13|   90 min|       Documentaries|As her father nea...|     [United States]|\n",
            "|     s2|TV Show|       Blood & Water|                NULL|Ama Qamata, Khosi...|        South Africa|September 24, 2021|        2021| TV-MA|2 Seasons|International TV ...|After crossing pa...|      [South Africa]|\n",
            "|     s3|TV Show|           Ganglands|     Julien Leclercq|Sami Bouajila, Tr...|                NULL|September 24, 2021|        2021| TV-MA| 1 Season|Crime TV Shows, I...|To protect his fa...|                NULL|\n",
            "|     s4|TV Show|Jailbirds New Orl...|                NULL|                NULL|                NULL|September 24, 2021|        2021| TV-MA| 1 Season|Docuseries, Reali...|Feuds, flirtation...|                NULL|\n",
            "|     s5|TV Show|        Kota Factory|                NULL|Mayur More, Jiten...|               India|September 24, 2021|        2021| TV-MA|2 Seasons|International TV ...|In a city of coac...|             [India]|\n",
            "|     s6|TV Show|       Midnight Mass|       Mike Flanagan|Kate Siegel, Zach...|                NULL|September 24, 2021|        2021| TV-MA| 1 Season|TV Dramas, TV Hor...|The arrival of a ...|                NULL|\n",
            "|     s7|  Movie|My Little Pony: A...|Robert Cullen, Jo...|Vanessa Hudgens, ...|                NULL|September 24, 2021|        2021|    PG|   91 min|Children & Family...|Equestria's divid...|                NULL|\n",
            "|     s8|  Movie|             Sankofa|        Haile Gerima|Kofi Ghanaba, Oya...|United States, Gh...|September 24, 2021|        1993| TV-MA|  125 min|Dramas, Independe...|On a photo shoot ...|[United States,  ...|\n",
            "|     s9|TV Show|The Great British...|     Andy Devonshire|Mel Giedroyc, Sue...|      United Kingdom|September 24, 2021|        2021| TV-14|9 Seasons|British TV Shows,...|A talented batch ...|    [United Kingdom]|\n",
            "|    s10|  Movie|        The Starling|      Theodore Melfi|Melissa McCarthy,...|       United States|September 24, 2021|        2021| PG-13|  104 min|    Comedies, Dramas|A woman adjusting...|     [United States]|\n",
            "|    s11|TV Show|Vendetta: Truth, ...|                NULL|                NULL|                NULL|September 24, 2021|        2021| TV-MA| 1 Season|Crime TV Shows, D...|\"Sicily boasts a ...|                NULL|\n",
            "|    s12|TV Show|    Bangkok Breaking|   Kongkiat Komesiri|Sukollawat Kanaro...|                NULL|September 23, 2021|        2021| TV-MA| 1 Season|Crime TV Shows, I...|Struggling to ear...|                NULL|\n",
            "|    s13|  Movie|        Je Suis Karl| Christian Schwochow|Luna Wedler, Jann...|Germany, Czech Re...|September 23, 2021|        2021| TV-MA|  127 min|Dramas, Internati...|After most of her...|[Germany,  Czech ...|\n",
            "|    s14|  Movie|Confessions of an...|       Bruno Garotti|Klara Castanho, L...|                NULL|September 22, 2021|        2021| TV-PG|   91 min|Children & Family...|When the clever b...|                NULL|\n",
            "|    s15|TV Show|Crime Stories: In...|                NULL|                NULL|                NULL|September 22, 2021|        2021| TV-MA| 1 Season|British TV Shows,...|Cameras following...|                NULL|\n",
            "|    s16|TV Show|   Dear White People|                NULL|Logan Browning, B...|       United States|September 22, 2021|        2021| TV-MA|4 Seasons|TV Comedies, TV D...|\"Students of colo...|     [United States]|\n",
            "|    s17|  Movie|Europe's Most Dan...|Pedro de Echave G...|                NULL|                NULL|September 22, 2021|        2020| TV-MA|   67 min|Documentaries, In...|Declassified docu...|                NULL|\n",
            "|    s18|TV Show|     Falsa identidad|                NULL|Luis Ernesto Fran...|              Mexico|September 22, 2021|        2020| TV-MA|2 Seasons|Crime TV Shows, S...|Strangers Diego a...|            [Mexico]|\n",
            "|    s19|  Movie|           Intrusion|          Adam Salky|Freida Pinto, Log...|                NULL|September 22, 2021|        2021| TV-14|   94 min|           Thrillers|After a deadly ho...|                NULL|\n",
            "|    s20|TV Show|              Jaguar|                NULL|Blanca Suárez, Iv...|                NULL|September 22, 2021|        2021| TV-MA| 1 Season|International TV ...|In the 1960s, a H...|                NULL|\n",
            "+-------+-------+--------------------+--------------------+--------------------+--------------------+------------------+------------+------+---------+--------------------+--------------------+--------------------+\n",
            "only showing top 20 rows\n",
            "\n"
          ]
        }
      ]
    },
    {
      "cell_type": "code",
      "source": [
        "## EDA 3 - # of titles added in a year\n",
        "## A lot of movies started coming on netflix post 2017 with a peak in 2019 and 2020, mat be due to COVID-19\n",
        "\n",
        "from pyspark.sql.functions import to_date, year\n",
        "\n",
        "df_final = df_final.withColumn(\"year_added\", year(to_date(df_final['date_added'], \"MMMM d, yyyy\")))\n",
        "\n",
        "df_final.groupBy(\"year_added\").count().orderBy(\"year_added\",ascending=False).show()"
      ],
      "metadata": {
        "id": "ZdImXAV3DgeI",
        "outputId": "a4dc5f03-02f0-4909-b940-ee42987af704",
        "colab": {
          "base_uri": "https://localhost:8080/"
        }
      },
      "execution_count": 30,
      "outputs": [
        {
          "output_type": "stream",
          "name": "stdout",
          "text": [
            "+----------+-----+\n",
            "|year_added|count|\n",
            "+----------+-----+\n",
            "|      2021| 1491|\n",
            "|      2020| 1872|\n",
            "|      2019| 1997|\n",
            "|      2018| 1623|\n",
            "|      2017| 1162|\n",
            "|      2016|  418|\n",
            "|      2015|   72|\n",
            "|      2014|   23|\n",
            "|      2013|   10|\n",
            "|      2012|    3|\n",
            "|      2011|   13|\n",
            "|      2010|    1|\n",
            "|      2009|    2|\n",
            "|      2008|    2|\n",
            "|      NULL|  118|\n",
            "+----------+-----+\n",
            "\n"
          ]
        }
      ]
    },
    {
      "cell_type": "code",
      "source": [
        "df_final.show(5)"
      ],
      "metadata": {
        "id": "cc7jPjdEOQgk",
        "outputId": "c5de9676-7d51-4f40-cdab-56dd3c7a5bee",
        "colab": {
          "base_uri": "https://localhost:8080/"
        }
      },
      "execution_count": 31,
      "outputs": [
        {
          "output_type": "stream",
          "name": "stdout",
          "text": [
            "+-------+-------+--------------------+---------------+--------------------+-------------+------------------+------------+------+---------+--------------------+--------------------+---------------+----------+\n",
            "|show_id|   type|               title|       director|                cast|      country|        date_added|release_year|rating| duration|           listed_in|         description|  country_array|year_added|\n",
            "+-------+-------+--------------------+---------------+--------------------+-------------+------------------+------------+------+---------+--------------------+--------------------+---------------+----------+\n",
            "|     s1|  Movie|Dick Johnson Is Dead|Kirsten Johnson|                NULL|United States|September 25, 2021|        2020| PG-13|   90 min|       Documentaries|As her father nea...|[United States]|      2021|\n",
            "|     s2|TV Show|       Blood & Water|           NULL|Ama Qamata, Khosi...| South Africa|September 24, 2021|        2021| TV-MA|2 Seasons|International TV ...|After crossing pa...| [South Africa]|      2021|\n",
            "|     s3|TV Show|           Ganglands|Julien Leclercq|Sami Bouajila, Tr...|         NULL|September 24, 2021|        2021| TV-MA| 1 Season|Crime TV Shows, I...|To protect his fa...|           NULL|      2021|\n",
            "|     s4|TV Show|Jailbirds New Orl...|           NULL|                NULL|         NULL|September 24, 2021|        2021| TV-MA| 1 Season|Docuseries, Reali...|Feuds, flirtation...|           NULL|      2021|\n",
            "|     s5|TV Show|        Kota Factory|           NULL|Mayur More, Jiten...|        India|September 24, 2021|        2021| TV-MA|2 Seasons|International TV ...|In a city of coac...|        [India]|      2021|\n",
            "+-------+-------+--------------------+---------------+--------------------+-------------+------------------+------------+------+---------+--------------------+--------------------+---------------+----------+\n",
            "only showing top 5 rows\n",
            "\n"
          ]
        }
      ]
    },
    {
      "cell_type": "code",
      "source": [
        "## Content insights\n",
        "## EDA 4 - What are the most common genres (listed_in) on Netflix?\n",
        "##Split listed_in by comma, explode, and count occurrences.\n",
        "\n",
        "df_final=  df_final.withColumn(\"list_array\", split(df_final.listed_in, ','))\n",
        "list_exploded = df_final.withColumn(\"list_explode\", explode(df_final.list_array))\n",
        "list_exploded = list_exploded.withColumn(\"list_explode\", trim(list_exploded[\"list_explode\"]))\n",
        "list_exploded.show(5)"
      ],
      "metadata": {
        "id": "_an1I9ynOyre",
        "outputId": "7ea1e878-8054-40e7-a1b9-942d848e16c8",
        "colab": {
          "base_uri": "https://localhost:8080/"
        }
      },
      "execution_count": 32,
      "outputs": [
        {
          "output_type": "stream",
          "name": "stdout",
          "text": [
            "+-------+-------+--------------------+---------------+--------------------+-------------+------------------+------------+------+---------+--------------------+--------------------+---------------+----------+--------------------+--------------------+\n",
            "|show_id|   type|               title|       director|                cast|      country|        date_added|release_year|rating| duration|           listed_in|         description|  country_array|year_added|          list_array|        list_explode|\n",
            "+-------+-------+--------------------+---------------+--------------------+-------------+------------------+------------+------+---------+--------------------+--------------------+---------------+----------+--------------------+--------------------+\n",
            "|     s1|  Movie|Dick Johnson Is Dead|Kirsten Johnson|                NULL|United States|September 25, 2021|        2020| PG-13|   90 min|       Documentaries|As her father nea...|[United States]|      2021|     [Documentaries]|       Documentaries|\n",
            "|     s2|TV Show|       Blood & Water|           NULL|Ama Qamata, Khosi...| South Africa|September 24, 2021|        2021| TV-MA|2 Seasons|International TV ...|After crossing pa...| [South Africa]|      2021|[International TV...|International TV ...|\n",
            "|     s2|TV Show|       Blood & Water|           NULL|Ama Qamata, Khosi...| South Africa|September 24, 2021|        2021| TV-MA|2 Seasons|International TV ...|After crossing pa...| [South Africa]|      2021|[International TV...|           TV Dramas|\n",
            "|     s2|TV Show|       Blood & Water|           NULL|Ama Qamata, Khosi...| South Africa|September 24, 2021|        2021| TV-MA|2 Seasons|International TV ...|After crossing pa...| [South Africa]|      2021|[International TV...|        TV Mysteries|\n",
            "|     s3|TV Show|           Ganglands|Julien Leclercq|Sami Bouajila, Tr...|         NULL|September 24, 2021|        2021| TV-MA| 1 Season|Crime TV Shows, I...|To protect his fa...|           NULL|      2021|[Crime TV Shows, ...|      Crime TV Shows|\n",
            "+-------+-------+--------------------+---------------+--------------------+-------------+------------------+------------+------+---------+--------------------+--------------------+---------------+----------+--------------------+--------------------+\n",
            "only showing top 5 rows\n",
            "\n"
          ]
        }
      ]
    },
    {
      "cell_type": "code",
      "source": [
        "list_exploded.groupBy(\"list_explode\").count().orderBy(\"count\",ascending=False).show()\n",
        "## top genres are - International Movies, Dramas, Comedies, International TV"
      ],
      "metadata": {
        "id": "moUhj6K3ZIsF",
        "outputId": "9695b1bb-a9fd-4360-efd7-7e8fb188bd84",
        "colab": {
          "base_uri": "https://localhost:8080/"
        }
      },
      "execution_count": 33,
      "outputs": [
        {
          "output_type": "stream",
          "name": "stdout",
          "text": [
            "+--------------------+-----+\n",
            "|        list_explode|count|\n",
            "+--------------------+-----+\n",
            "|International Movies| 2748|\n",
            "|              Dramas| 2419|\n",
            "|            Comedies| 1670|\n",
            "|International TV ...| 1350|\n",
            "|       Documentaries|  866|\n",
            "|  Action & Adventure|  857|\n",
            "|           TV Dramas|  762|\n",
            "|  Independent Movies|  751|\n",
            "|Children & Family...|  641|\n",
            "|     Romantic Movies|  616|\n",
            "|         TV Comedies|  580|\n",
            "|           Thrillers|  573|\n",
            "|      Crime TV Shows|  469|\n",
            "|            Kids' TV|  451|\n",
            "|          Docuseries|  395|\n",
            "|    Music & Musicals|  373|\n",
            "|   Romantic TV Shows|  370|\n",
            "|       Horror Movies|  357|\n",
            "|     Stand-Up Comedy|  343|\n",
            "|          Reality TV|  254|\n",
            "+--------------------+-----+\n",
            "only showing top 20 rows\n",
            "\n"
          ]
        }
      ]
    },
    {
      "cell_type": "code",
      "source": [
        "## EDA 5 - Who are the top 10 directors and actors by number of titles?\n",
        "## Split director and cast, explode, and count.\n",
        "\n",
        "df_final.show(5)"
      ],
      "metadata": {
        "id": "JG4zuy7ycM-J",
        "outputId": "8baa6a62-3ea3-4617-f89b-9274a8c0a08e",
        "colab": {
          "base_uri": "https://localhost:8080/"
        }
      },
      "execution_count": 34,
      "outputs": [
        {
          "output_type": "stream",
          "name": "stdout",
          "text": [
            "+-------+-------+--------------------+---------------+--------------------+-------------+------------------+------------+------+---------+--------------------+--------------------+---------------+----------+--------------------+\n",
            "|show_id|   type|               title|       director|                cast|      country|        date_added|release_year|rating| duration|           listed_in|         description|  country_array|year_added|          list_array|\n",
            "+-------+-------+--------------------+---------------+--------------------+-------------+------------------+------------+------+---------+--------------------+--------------------+---------------+----------+--------------------+\n",
            "|     s1|  Movie|Dick Johnson Is Dead|Kirsten Johnson|                NULL|United States|September 25, 2021|        2020| PG-13|   90 min|       Documentaries|As her father nea...|[United States]|      2021|     [Documentaries]|\n",
            "|     s2|TV Show|       Blood & Water|           NULL|Ama Qamata, Khosi...| South Africa|September 24, 2021|        2021| TV-MA|2 Seasons|International TV ...|After crossing pa...| [South Africa]|      2021|[International TV...|\n",
            "|     s3|TV Show|           Ganglands|Julien Leclercq|Sami Bouajila, Tr...|         NULL|September 24, 2021|        2021| TV-MA| 1 Season|Crime TV Shows, I...|To protect his fa...|           NULL|      2021|[Crime TV Shows, ...|\n",
            "|     s4|TV Show|Jailbirds New Orl...|           NULL|                NULL|         NULL|September 24, 2021|        2021| TV-MA| 1 Season|Docuseries, Reali...|Feuds, flirtation...|           NULL|      2021|[Docuseries,  Rea...|\n",
            "|     s5|TV Show|        Kota Factory|           NULL|Mayur More, Jiten...|        India|September 24, 2021|        2021| TV-MA|2 Seasons|International TV ...|In a city of coac...|        [India]|      2021|[International TV...|\n",
            "+-------+-------+--------------------+---------------+--------------------+-------------+------------------+------------+------+---------+--------------------+--------------------+---------------+----------+--------------------+\n",
            "only showing top 5 rows\n",
            "\n"
          ]
        }
      ]
    },
    {
      "cell_type": "code",
      "source": [
        "## top 10 directors\n",
        "\n",
        "from pyspark.sql.functions import col\n",
        "\n",
        "director = df_final.withColumn(\"director_array\",split(df_final.director,','))\n",
        "director = director.withColumn(\"director_explode\", explode(director.director_array))\n",
        "director = director.withColumn(\"director_explode\", trim(director.director_explode)).filter(col(\"director_explode\") != \"\") \\\n",
        "                           .filter(col(\"director_explode\").isNotNull())\n",
        "\n",
        "director.groupBy('director_explode').count().orderBy('count', ascending=False).show(10)\n",
        "# director.show(5)"
      ],
      "metadata": {
        "id": "wezIniqw14xM",
        "outputId": "f9872905-b986-4fe0-dd77-a8529749ac07",
        "colab": {
          "base_uri": "https://localhost:8080/"
        }
      },
      "execution_count": 35,
      "outputs": [
        {
          "output_type": "stream",
          "name": "stdout",
          "text": [
            "+-------------------+-----+\n",
            "|   director_explode|count|\n",
            "+-------------------+-----+\n",
            "|      Rajiv Chilaka|   22|\n",
            "|          Jan Suter|   21|\n",
            "|        Raúl Campos|   19|\n",
            "|       Marcus Raboy|   16|\n",
            "|        Suhas Kadav|   16|\n",
            "|          Jay Karas|   15|\n",
            "|Cathy Garcia-Molina|   13|\n",
            "|    Youssef Chahine|   12|\n",
            "|    Martin Scorsese|   12|\n",
            "|        Jay Chapman|   12|\n",
            "+-------------------+-----+\n",
            "only showing top 10 rows\n",
            "\n"
          ]
        }
      ]
    },
    {
      "cell_type": "code",
      "source": [
        "## top 10 actors\n",
        "\n",
        "from pyspark.sql.functions import col\n",
        "\n",
        "cast = df_final.withColumn(\"cast_array\",split(df_final.cast,','))\n",
        "cast = cast.withColumn(\"cast_explode\", explode(cast.cast_array))\n",
        "cast = cast.withColumn(\"cast_explode\", trim(cast.cast_explode)).filter(col(\"cast_explode\") != \"\") \\\n",
        "                           .filter(col(\"cast_explode\").isNotNull())\n",
        "\n",
        "cast.groupBy('cast_explode').count().orderBy('count', ascending=False).show(10)"
      ],
      "metadata": {
        "id": "_OaxQ7Mb4UxA",
        "outputId": "ab29d58d-78db-446b-d7c4-3d060b344cd6",
        "colab": {
          "base_uri": "https://localhost:8080/"
        }
      },
      "execution_count": 36,
      "outputs": [
        {
          "output_type": "stream",
          "name": "stdout",
          "text": [
            "+----------------+-----+\n",
            "|    cast_explode|count|\n",
            "+----------------+-----+\n",
            "|     Anupam Kher|   43|\n",
            "|  Shah Rukh Khan|   35|\n",
            "|   Julie Tejwani|   33|\n",
            "|Takahiro Sakurai|   32|\n",
            "|Naseeruddin Shah|   32|\n",
            "|    Rupa Bhimani|   31|\n",
            "|    Akshay Kumar|   30|\n",
            "|         Om Puri|   30|\n",
            "|       Yuki Kaji|   29|\n",
            "|Amitabh Bachchan|   28|\n",
            "+----------------+-----+\n",
            "only showing top 10 rows\n",
            "\n"
          ]
        }
      ]
    },
    {
      "cell_type": "code",
      "source": [
        "df_final.show()"
      ],
      "metadata": {
        "id": "3MlEdQ8Y6Gdn",
        "outputId": "8fb5a496-0f58-48f3-d754-dc57e4c66f36",
        "colab": {
          "base_uri": "https://localhost:8080/"
        }
      },
      "execution_count": 37,
      "outputs": [
        {
          "output_type": "stream",
          "name": "stdout",
          "text": [
            "+-------+-------+--------------------+--------------------+--------------------+--------------------+------------------+------------+------+---------+--------------------+--------------------+--------------------+----------+--------------------+\n",
            "|show_id|   type|               title|            director|                cast|             country|        date_added|release_year|rating| duration|           listed_in|         description|       country_array|year_added|          list_array|\n",
            "+-------+-------+--------------------+--------------------+--------------------+--------------------+------------------+------------+------+---------+--------------------+--------------------+--------------------+----------+--------------------+\n",
            "|     s1|  Movie|Dick Johnson Is Dead|     Kirsten Johnson|                NULL|       United States|September 25, 2021|        2020| PG-13|   90 min|       Documentaries|As her father nea...|     [United States]|      2021|     [Documentaries]|\n",
            "|     s2|TV Show|       Blood & Water|                NULL|Ama Qamata, Khosi...|        South Africa|September 24, 2021|        2021| TV-MA|2 Seasons|International TV ...|After crossing pa...|      [South Africa]|      2021|[International TV...|\n",
            "|     s3|TV Show|           Ganglands|     Julien Leclercq|Sami Bouajila, Tr...|                NULL|September 24, 2021|        2021| TV-MA| 1 Season|Crime TV Shows, I...|To protect his fa...|                NULL|      2021|[Crime TV Shows, ...|\n",
            "|     s4|TV Show|Jailbirds New Orl...|                NULL|                NULL|                NULL|September 24, 2021|        2021| TV-MA| 1 Season|Docuseries, Reali...|Feuds, flirtation...|                NULL|      2021|[Docuseries,  Rea...|\n",
            "|     s5|TV Show|        Kota Factory|                NULL|Mayur More, Jiten...|               India|September 24, 2021|        2021| TV-MA|2 Seasons|International TV ...|In a city of coac...|             [India]|      2021|[International TV...|\n",
            "|     s6|TV Show|       Midnight Mass|       Mike Flanagan|Kate Siegel, Zach...|                NULL|September 24, 2021|        2021| TV-MA| 1 Season|TV Dramas, TV Hor...|The arrival of a ...|                NULL|      2021|[TV Dramas,  TV H...|\n",
            "|     s7|  Movie|My Little Pony: A...|Robert Cullen, Jo...|Vanessa Hudgens, ...|                NULL|September 24, 2021|        2021|    PG|   91 min|Children & Family...|Equestria's divid...|                NULL|      2021|[Children & Famil...|\n",
            "|     s8|  Movie|             Sankofa|        Haile Gerima|Kofi Ghanaba, Oya...|United States, Gh...|September 24, 2021|        1993| TV-MA|  125 min|Dramas, Independe...|On a photo shoot ...|[United States,  ...|      2021|[Dramas,  Indepen...|\n",
            "|     s9|TV Show|The Great British...|     Andy Devonshire|Mel Giedroyc, Sue...|      United Kingdom|September 24, 2021|        2021| TV-14|9 Seasons|British TV Shows,...|A talented batch ...|    [United Kingdom]|      2021|[British TV Shows...|\n",
            "|    s10|  Movie|        The Starling|      Theodore Melfi|Melissa McCarthy,...|       United States|September 24, 2021|        2021| PG-13|  104 min|    Comedies, Dramas|A woman adjusting...|     [United States]|      2021| [Comedies,  Dramas]|\n",
            "|    s11|TV Show|Vendetta: Truth, ...|                NULL|                NULL|                NULL|September 24, 2021|        2021| TV-MA| 1 Season|Crime TV Shows, D...|\"Sicily boasts a ...|                NULL|      2021|[Crime TV Shows, ...|\n",
            "|    s12|TV Show|    Bangkok Breaking|   Kongkiat Komesiri|Sukollawat Kanaro...|                NULL|September 23, 2021|        2021| TV-MA| 1 Season|Crime TV Shows, I...|Struggling to ear...|                NULL|      2021|[Crime TV Shows, ...|\n",
            "|    s13|  Movie|        Je Suis Karl| Christian Schwochow|Luna Wedler, Jann...|Germany, Czech Re...|September 23, 2021|        2021| TV-MA|  127 min|Dramas, Internati...|After most of her...|[Germany,  Czech ...|      2021|[Dramas,  Interna...|\n",
            "|    s14|  Movie|Confessions of an...|       Bruno Garotti|Klara Castanho, L...|                NULL|September 22, 2021|        2021| TV-PG|   91 min|Children & Family...|When the clever b...|                NULL|      2021|[Children & Famil...|\n",
            "|    s15|TV Show|Crime Stories: In...|                NULL|                NULL|                NULL|September 22, 2021|        2021| TV-MA| 1 Season|British TV Shows,...|Cameras following...|                NULL|      2021|[British TV Shows...|\n",
            "|    s16|TV Show|   Dear White People|                NULL|Logan Browning, B...|       United States|September 22, 2021|        2021| TV-MA|4 Seasons|TV Comedies, TV D...|\"Students of colo...|     [United States]|      2021|[TV Comedies,  TV...|\n",
            "|    s17|  Movie|Europe's Most Dan...|Pedro de Echave G...|                NULL|                NULL|September 22, 2021|        2020| TV-MA|   67 min|Documentaries, In...|Declassified docu...|                NULL|      2021|[Documentaries,  ...|\n",
            "|    s18|TV Show|     Falsa identidad|                NULL|Luis Ernesto Fran...|              Mexico|September 22, 2021|        2020| TV-MA|2 Seasons|Crime TV Shows, S...|Strangers Diego a...|            [Mexico]|      2021|[Crime TV Shows, ...|\n",
            "|    s19|  Movie|           Intrusion|          Adam Salky|Freida Pinto, Log...|                NULL|September 22, 2021|        2021| TV-14|   94 min|           Thrillers|After a deadly ho...|                NULL|      2021|         [Thrillers]|\n",
            "|    s20|TV Show|              Jaguar|                NULL|Blanca Suárez, Iv...|                NULL|September 22, 2021|        2021| TV-MA| 1 Season|International TV ...|In the 1960s, a H...|                NULL|      2021|[International TV...|\n",
            "+-------+-------+--------------------+--------------------+--------------------+--------------------+------------------+------------+------+---------+--------------------+--------------------+--------------------+----------+--------------------+\n",
            "only showing top 20 rows\n",
            "\n"
          ]
        }
      ]
    },
    {
      "cell_type": "code",
      "source": [
        "## col, expr, select, selectExpr\n",
        "\n",
        "from pyspark.sql.functions import col, expr\n",
        "\n",
        "df_final.filter(col(\"date_added\")==\"NULL\").show(2)"
      ],
      "metadata": {
        "id": "YjwNJkmWdrHo",
        "outputId": "7ca43a4d-497b-4b86-fd36-38bed1ef9cfe",
        "colab": {
          "base_uri": "https://localhost:8080/"
        }
      },
      "execution_count": 38,
      "outputs": [
        {
          "output_type": "stream",
          "name": "stdout",
          "text": [
            "+-------+----+-----+--------+----+-------+----------+------------+------+--------+---------+-----------+-------------+----------+----------+\n",
            "|show_id|type|title|director|cast|country|date_added|release_year|rating|duration|listed_in|description|country_array|year_added|list_array|\n",
            "+-------+----+-----+--------+----+-------+----------+------------+------+--------+---------+-----------+-------------+----------+----------+\n",
            "+-------+----+-----+--------+----+-------+----------+------------+------+--------+---------+-----------+-------------+----------+----------+\n",
            "\n"
          ]
        }
      ]
    },
    {
      "cell_type": "code",
      "source": [
        "df_final.select(expr(\"title as name\")).show(2)"
      ],
      "metadata": {
        "id": "2F5a-_xXeAQl",
        "outputId": "90fe839c-9f0f-4b6d-fc44-51cb96e4052e",
        "colab": {
          "base_uri": "https://localhost:8080/"
        }
      },
      "execution_count": 39,
      "outputs": [
        {
          "output_type": "stream",
          "name": "stdout",
          "text": [
            "+--------------------+\n",
            "|                name|\n",
            "+--------------------+\n",
            "|Dick Johnson Is Dead|\n",
            "|       Blood & Water|\n",
            "+--------------------+\n",
            "only showing top 2 rows\n",
            "\n"
          ]
        }
      ]
    },
    {
      "cell_type": "code",
      "source": [
        "df_final.selectExpr(\"title\", \"date_added as date\").show(2)"
      ],
      "metadata": {
        "id": "ohY5wzf6edGl",
        "outputId": "8481571d-7c4b-46ec-8154-f9226ad3799d",
        "colab": {
          "base_uri": "https://localhost:8080/"
        }
      },
      "execution_count": 40,
      "outputs": [
        {
          "output_type": "stream",
          "name": "stdout",
          "text": [
            "+--------------------+------------------+\n",
            "|               title|              date|\n",
            "+--------------------+------------------+\n",
            "|Dick Johnson Is Dead|September 25, 2021|\n",
            "|       Blood & Water|September 24, 2021|\n",
            "+--------------------+------------------+\n",
            "only showing top 2 rows\n",
            "\n"
          ]
        }
      ]
    },
    {
      "cell_type": "code",
      "source": [
        "list_exploded.show(5)"
      ],
      "metadata": {
        "id": "q3gnQnTL-AOl",
        "outputId": "d3ba3b19-ebea-4077-a1be-877297fa47a8",
        "colab": {
          "base_uri": "https://localhost:8080/"
        }
      },
      "execution_count": 43,
      "outputs": [
        {
          "output_type": "stream",
          "name": "stdout",
          "text": [
            "+-------+-------+--------------------+---------------+--------------------+-------------+------------------+------------+------+---------+--------------------+--------------------+---------------+----------+--------------------+--------------------+\n",
            "|show_id|   type|               title|       director|                cast|      country|        date_added|release_year|rating| duration|           listed_in|         description|  country_array|year_added|          list_array|        list_explode|\n",
            "+-------+-------+--------------------+---------------+--------------------+-------------+------------------+------------+------+---------+--------------------+--------------------+---------------+----------+--------------------+--------------------+\n",
            "|     s1|  Movie|Dick Johnson Is Dead|Kirsten Johnson|                NULL|United States|September 25, 2021|        2020| PG-13|   90 min|       Documentaries|As her father nea...|[United States]|      2021|     [Documentaries]|       Documentaries|\n",
            "|     s2|TV Show|       Blood & Water|           NULL|Ama Qamata, Khosi...| South Africa|September 24, 2021|        2021| TV-MA|2 Seasons|International TV ...|After crossing pa...| [South Africa]|      2021|[International TV...|International TV ...|\n",
            "|     s2|TV Show|       Blood & Water|           NULL|Ama Qamata, Khosi...| South Africa|September 24, 2021|        2021| TV-MA|2 Seasons|International TV ...|After crossing pa...| [South Africa]|      2021|[International TV...|           TV Dramas|\n",
            "|     s2|TV Show|       Blood & Water|           NULL|Ama Qamata, Khosi...| South Africa|September 24, 2021|        2021| TV-MA|2 Seasons|International TV ...|After crossing pa...| [South Africa]|      2021|[International TV...|        TV Mysteries|\n",
            "|     s3|TV Show|           Ganglands|Julien Leclercq|Sami Bouajila, Tr...|         NULL|September 24, 2021|        2021| TV-MA| 1 Season|Crime TV Shows, I...|To protect his fa...|           NULL|      2021|[Crime TV Shows, ...|      Crime TV Shows|\n",
            "+-------+-------+--------------------+---------------+--------------------+-------------+------------------+------------+------+---------+--------------------+--------------------+---------------+----------+--------------------+--------------------+\n",
            "only showing top 5 rows\n",
            "\n"
          ]
        }
      ]
    },
    {
      "cell_type": "code",
      "source": [
        "## recent added in each category\n",
        "\n",
        "from pyspark.sql.window import Window\n",
        "from pyspark.sql.functions import col, max, desc\n",
        "\n",
        "window_spec = Window.partitionBy(col(\"list_explode\")).orderBy(col(\"year_added\").desc())\n",
        "\n",
        "max_func = max(col(\"title\")).over(window_spec)\n",
        "new = list_exploded.withColumn(\"recent\", max_func)"
      ],
      "metadata": {
        "id": "gHXzTTA69icO"
      },
      "execution_count": 47,
      "outputs": []
    },
    {
      "cell_type": "code",
      "source": [
        "new.select(\"list_explode\",\"year_added\",\"recent\").filter(col(\"year_added\")==2020).distinct().orderBy(\"year_added\",ascending=False).show()"
      ],
      "metadata": {
        "id": "xjDWu2qRAxMa",
        "outputId": "2ee01201-e323-4da6-eb5c-251ba238ff00",
        "colab": {
          "base_uri": "https://localhost:8080/"
        }
      },
      "execution_count": 54,
      "outputs": [
        {
          "output_type": "stream",
          "name": "stdout",
          "text": [
            "+--------------------+----------+--------------------+\n",
            "|        list_explode|year_added|              recent|\n",
            "+--------------------+----------+--------------------+\n",
            "|  Action & Adventure|      2020|              Xtreme|\n",
            "|      Anime Features|      2020|Words Bubble Up L...|\n",
            "|        Anime Series|      2020|​SAINT SEIYA: Kni...|\n",
            "|    British TV Shows|      2020|          Zero Chill|\n",
            "|Children & Family...|      2020|                Zoom|\n",
            "|   Classic & Cult TV|      2020|  Thomas and Friends|\n",
            "|      Classic Movies|      2020|Willy Wonka & the...|\n",
            "|            Comedies|      2020|           الف مبروك|\n",
            "|      Crime TV Shows|      2020|     Young Wallander|\n",
            "|         Cult Movies|      2020|           Zoot Suit|\n",
            "|       Documentaries|      2020|   Zulu Man in Japan|\n",
            "|          Docuseries|      2020|        Worn Stories|\n",
            "|              Dramas|      2020|           الف مبروك|\n",
            "|Faith & Spirituality|      2020|   The Young Messiah|\n",
            "|       Horror Movies|      2020|          Winchester|\n",
            "|  Independent Movies|      2020|  İstanbul Kırmızısı|\n",
            "|International Movies|      2020|           الف مبروك|\n",
            "|International TV ...|      2020|​SAINT SEIYA: Kni...|\n",
            "|            Kids' TV|      2020|          Zoids Wild|\n",
            "|     Korean TV Shows|      2020|YooHoo to the Rescue|\n",
            "+--------------------+----------+--------------------+\n",
            "only showing top 20 rows\n",
            "\n"
          ]
        }
      ]
    },
    {
      "cell_type": "markdown",
      "source": [],
      "metadata": {
        "id": "JS2ba7Oge0Hy"
      }
    }
  ],
  "metadata": {
    "colab": {
      "provenance": [],
      "include_colab_link": true
    },
    "kernelspec": {
      "display_name": "Python 3",
      "name": "python3"
    }
  },
  "nbformat": 4,
  "nbformat_minor": 0
}